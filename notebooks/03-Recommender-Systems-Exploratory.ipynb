{
 "cells": [
  {
   "cell_type": "code",
   "execution_count": 1,
   "id": "initial_id",
   "metadata": {
    "collapsed": true,
    "ExecuteTime": {
     "end_time": "2024-06-07T11:45:16.444711Z",
     "start_time": "2024-06-07T11:45:16.160557Z"
    }
   },
   "outputs": [],
   "source": [
    "import pandas as pd\n",
    "import sys\n",
    "sys.path.append('../supercenter-product-recommender')  # Adjust the path as necessary\n",
    "from db_utilities import read_table\n",
    "from mlxtend.frequent_patterns import apriori, association_rules\n",
    "import matplotlib.pyplot as plt\n",
    "import numpy as np"
   ]
  },
  {
   "cell_type": "code",
   "execution_count": 2,
   "outputs": [
    {
     "data": {
      "text/plain": "row_id                   int64\norder_id                 int64\nproduct_id              object\ncart_inclusion_order     int64\nreordered                int64\nproduct_name            object\naisle_id                object\ndepartment_id           object\ndepartment              object\naisle                   object\ndtype: object"
     },
     "execution_count": 2,
     "metadata": {},
     "output_type": "execute_result"
    }
   ],
   "source": [
    "df = read_table('processed_orders_data')\n",
    "df.dtypes"
   ],
   "metadata": {
    "collapsed": false,
    "ExecuteTime": {
     "end_time": "2024-06-07T11:45:27.328887Z",
     "start_time": "2024-06-07T11:45:18.581339Z"
    }
   },
   "id": "742b12d01cdbcc59"
  },
  {
   "cell_type": "code",
   "execution_count": 4,
   "outputs": [
    {
     "data": {
      "text/plain": "   row_id  order_id product_id  cart_inclusion_order  reordered  \\\n0       0         1      49302                     1          1   \n1       1         1      11109                     2          1   \n2       2         1      10246                     3          0   \n3       3         1      49683                     4          0   \n4       4         1      43633                     5          1   \n5       5         1      13176                     6          0   \n6       6         1      47209                     7          0   \n7       7         1      22035                     8          1   \n8       8        36      39612                     1          0   \n9       9        36      19660                     2          1   \n\n                                        product_name aisle_id department_id  \\\n0                               EL YOGUR DE BULGARIA      120            16   \n1  4% ORGÁNICO QUESO GRASA DE LECHE LECHE ENTERA ...      108            16   \n2                        CORAZONES DE APIO ORGÁNICOS       83             4   \n3                                       KIRBY PEPINO       83             4   \n4  LAS SARDINAS LIGERAMENTE AHUMADO EN ACEITE DE ...       95            15   \n5                           BOLSA DE BANANO ORGÁNICO       24             4   \n6                                            Missing  Missing       Missing   \n7                        QUESO ORGÁNICO TOTAL CADENA       21            16   \n8                      QUESO RALLADO PECORINO ROMANO        2            16   \n9                                  AGUA DE MANANTIAL      115             7   \n\n            department                        aisle  \n0     HUEVOS Y LÁCTEOS                        YOGUR  \n1     HUEVOS Y LÁCTEOS          OTROS QUESOS CREMAS  \n2    FRUTAS Y VERDURAS            VEGETALES FRESCOS  \n3    FRUTAS Y VERDURAS            VEGETALES FRESCOS  \n4  PRODUCTOS ENLATADOS      MARISCOS CARNE ENLATADA  \n5    FRUTAS Y VERDURAS               FRUTAS FRESCAS  \n6              Missing                      Missing  \n7     HUEVOS Y LÁCTEOS             QUESOS ENVASADOS  \n8     HUEVOS Y LÁCTEOS       QUESOS DE ESPECIALIDAD  \n9              BEBIDAS  SELTZER AGUA Y AGUA CON GAS  ",
      "text/html": "<div>\n<style scoped>\n    .dataframe tbody tr th:only-of-type {\n        vertical-align: middle;\n    }\n\n    .dataframe tbody tr th {\n        vertical-align: top;\n    }\n\n    .dataframe thead th {\n        text-align: right;\n    }\n</style>\n<table border=\"1\" class=\"dataframe\">\n  <thead>\n    <tr style=\"text-align: right;\">\n      <th></th>\n      <th>row_id</th>\n      <th>order_id</th>\n      <th>product_id</th>\n      <th>cart_inclusion_order</th>\n      <th>reordered</th>\n      <th>product_name</th>\n      <th>aisle_id</th>\n      <th>department_id</th>\n      <th>department</th>\n      <th>aisle</th>\n    </tr>\n  </thead>\n  <tbody>\n    <tr>\n      <th>0</th>\n      <td>0</td>\n      <td>1</td>\n      <td>49302</td>\n      <td>1</td>\n      <td>1</td>\n      <td>EL YOGUR DE BULGARIA</td>\n      <td>120</td>\n      <td>16</td>\n      <td>HUEVOS Y LÁCTEOS</td>\n      <td>YOGUR</td>\n    </tr>\n    <tr>\n      <th>1</th>\n      <td>1</td>\n      <td>1</td>\n      <td>11109</td>\n      <td>2</td>\n      <td>1</td>\n      <td>4% ORGÁNICO QUESO GRASA DE LECHE LECHE ENTERA ...</td>\n      <td>108</td>\n      <td>16</td>\n      <td>HUEVOS Y LÁCTEOS</td>\n      <td>OTROS QUESOS CREMAS</td>\n    </tr>\n    <tr>\n      <th>2</th>\n      <td>2</td>\n      <td>1</td>\n      <td>10246</td>\n      <td>3</td>\n      <td>0</td>\n      <td>CORAZONES DE APIO ORGÁNICOS</td>\n      <td>83</td>\n      <td>4</td>\n      <td>FRUTAS Y VERDURAS</td>\n      <td>VEGETALES FRESCOS</td>\n    </tr>\n    <tr>\n      <th>3</th>\n      <td>3</td>\n      <td>1</td>\n      <td>49683</td>\n      <td>4</td>\n      <td>0</td>\n      <td>KIRBY PEPINO</td>\n      <td>83</td>\n      <td>4</td>\n      <td>FRUTAS Y VERDURAS</td>\n      <td>VEGETALES FRESCOS</td>\n    </tr>\n    <tr>\n      <th>4</th>\n      <td>4</td>\n      <td>1</td>\n      <td>43633</td>\n      <td>5</td>\n      <td>1</td>\n      <td>LAS SARDINAS LIGERAMENTE AHUMADO EN ACEITE DE ...</td>\n      <td>95</td>\n      <td>15</td>\n      <td>PRODUCTOS ENLATADOS</td>\n      <td>MARISCOS CARNE ENLATADA</td>\n    </tr>\n    <tr>\n      <th>5</th>\n      <td>5</td>\n      <td>1</td>\n      <td>13176</td>\n      <td>6</td>\n      <td>0</td>\n      <td>BOLSA DE BANANO ORGÁNICO</td>\n      <td>24</td>\n      <td>4</td>\n      <td>FRUTAS Y VERDURAS</td>\n      <td>FRUTAS FRESCAS</td>\n    </tr>\n    <tr>\n      <th>6</th>\n      <td>6</td>\n      <td>1</td>\n      <td>47209</td>\n      <td>7</td>\n      <td>0</td>\n      <td>Missing</td>\n      <td>Missing</td>\n      <td>Missing</td>\n      <td>Missing</td>\n      <td>Missing</td>\n    </tr>\n    <tr>\n      <th>7</th>\n      <td>7</td>\n      <td>1</td>\n      <td>22035</td>\n      <td>8</td>\n      <td>1</td>\n      <td>QUESO ORGÁNICO TOTAL CADENA</td>\n      <td>21</td>\n      <td>16</td>\n      <td>HUEVOS Y LÁCTEOS</td>\n      <td>QUESOS ENVASADOS</td>\n    </tr>\n    <tr>\n      <th>8</th>\n      <td>8</td>\n      <td>36</td>\n      <td>39612</td>\n      <td>1</td>\n      <td>0</td>\n      <td>QUESO RALLADO PECORINO ROMANO</td>\n      <td>2</td>\n      <td>16</td>\n      <td>HUEVOS Y LÁCTEOS</td>\n      <td>QUESOS DE ESPECIALIDAD</td>\n    </tr>\n    <tr>\n      <th>9</th>\n      <td>9</td>\n      <td>36</td>\n      <td>19660</td>\n      <td>2</td>\n      <td>1</td>\n      <td>AGUA DE MANANTIAL</td>\n      <td>115</td>\n      <td>7</td>\n      <td>BEBIDAS</td>\n      <td>SELTZER AGUA Y AGUA CON GAS</td>\n    </tr>\n  </tbody>\n</table>\n</div>"
     },
     "execution_count": 4,
     "metadata": {},
     "output_type": "execute_result"
    }
   ],
   "source": [
    "df.head(10)"
   ],
   "metadata": {
    "collapsed": false,
    "ExecuteTime": {
     "end_time": "2024-06-07T09:36:29.660347Z",
     "start_time": "2024-06-07T09:36:29.654706Z"
    }
   },
   "id": "eb76092fe2ef829b"
  },
  {
   "cell_type": "markdown",
   "source": [
    "## Setting the Baseline\n",
    "\n",
    "KNN with just product co-occurence"
   ],
   "metadata": {
    "collapsed": false
   },
   "id": "a7f18ca626363c60"
  },
  {
   "cell_type": "code",
   "execution_count": 3,
   "outputs": [
    {
     "name": "stderr",
     "output_type": "stream",
     "text": [
      "/var/folders/_1/jzxxkx2s39l5jxsz34sqhj280000gn/T/ipykernel_82120/149583140.py:2: PerformanceWarning: The following operation may generate 5133289707 cells in the resulting pandas object.\n",
      "  interaction_matrix = df.pivot_table(index='order_id', columns='product_id', aggfunc='size', fill_value=0)\n"
     ]
    },
    {
     "data": {
      "text/plain": "product_id  1  10  100  1000  10000  10001  10005  10006  10008  10009  ...  \\\norder_id                                                                ...   \n1           0   0    0     0      0      0      0      0      0      0  ...   \n36          0   0    0     0      0      0      0      0      0      0  ...   \n38          0   0    0     0      0      0      0      0      0      0  ...   \n96          0   0    0     0      0      0      0      0      0      0  ...   \n98          0   0    0     0      0      0      0      0      0      0  ...   \n...        ..  ..  ...   ...    ...    ...    ...    ...    ...    ...  ...   \n3421049     0   0    0     0      0      0      0      0      0      0  ...   \n3421056     0   0    0     0      0      0      0      0      0      0  ...   \n3421058     0   0    0     0      0      0      0      0      0      0  ...   \n3421063     0   0    0     0      0      0      0      0      0      0  ...   \n3421070     0   0    0     0      0      0      0      0      0      0  ...   \n\nproduct_id  9985  9986  9989  999  9990  9993  9995  9996  9997  9998  \norder_id                                                               \n1              0     0     0    0     0     0     0     0     0     0  \n36             0     0     0    0     0     0     0     0     0     0  \n38             0     0     0    0     0     0     0     0     0     0  \n96             0     0     0    0     0     0     0     0     0     0  \n98             0     0     0    0     0     0     0     0     0     0  \n...          ...   ...   ...  ...   ...   ...   ...   ...   ...   ...  \n3421049        0     0     0    0     0     0     0     0     0     0  \n3421056        0     0     0    0     0     0     0     0     0     0  \n3421058        0     0     0    0     0     0     0     0     0     0  \n3421063        0     0     0    0     0     0     0     0     0     0  \n3421070        0     0     0    0     0     0     0     0     0     0  \n\n[131209 rows x 39123 columns]",
      "text/html": "<div>\n<style scoped>\n    .dataframe tbody tr th:only-of-type {\n        vertical-align: middle;\n    }\n\n    .dataframe tbody tr th {\n        vertical-align: top;\n    }\n\n    .dataframe thead th {\n        text-align: right;\n    }\n</style>\n<table border=\"1\" class=\"dataframe\">\n  <thead>\n    <tr style=\"text-align: right;\">\n      <th>product_id</th>\n      <th>1</th>\n      <th>10</th>\n      <th>100</th>\n      <th>1000</th>\n      <th>10000</th>\n      <th>10001</th>\n      <th>10005</th>\n      <th>10006</th>\n      <th>10008</th>\n      <th>10009</th>\n      <th>...</th>\n      <th>9985</th>\n      <th>9986</th>\n      <th>9989</th>\n      <th>999</th>\n      <th>9990</th>\n      <th>9993</th>\n      <th>9995</th>\n      <th>9996</th>\n      <th>9997</th>\n      <th>9998</th>\n    </tr>\n    <tr>\n      <th>order_id</th>\n      <th></th>\n      <th></th>\n      <th></th>\n      <th></th>\n      <th></th>\n      <th></th>\n      <th></th>\n      <th></th>\n      <th></th>\n      <th></th>\n      <th></th>\n      <th></th>\n      <th></th>\n      <th></th>\n      <th></th>\n      <th></th>\n      <th></th>\n      <th></th>\n      <th></th>\n      <th></th>\n      <th></th>\n    </tr>\n  </thead>\n  <tbody>\n    <tr>\n      <th>1</th>\n      <td>0</td>\n      <td>0</td>\n      <td>0</td>\n      <td>0</td>\n      <td>0</td>\n      <td>0</td>\n      <td>0</td>\n      <td>0</td>\n      <td>0</td>\n      <td>0</td>\n      <td>...</td>\n      <td>0</td>\n      <td>0</td>\n      <td>0</td>\n      <td>0</td>\n      <td>0</td>\n      <td>0</td>\n      <td>0</td>\n      <td>0</td>\n      <td>0</td>\n      <td>0</td>\n    </tr>\n    <tr>\n      <th>36</th>\n      <td>0</td>\n      <td>0</td>\n      <td>0</td>\n      <td>0</td>\n      <td>0</td>\n      <td>0</td>\n      <td>0</td>\n      <td>0</td>\n      <td>0</td>\n      <td>0</td>\n      <td>...</td>\n      <td>0</td>\n      <td>0</td>\n      <td>0</td>\n      <td>0</td>\n      <td>0</td>\n      <td>0</td>\n      <td>0</td>\n      <td>0</td>\n      <td>0</td>\n      <td>0</td>\n    </tr>\n    <tr>\n      <th>38</th>\n      <td>0</td>\n      <td>0</td>\n      <td>0</td>\n      <td>0</td>\n      <td>0</td>\n      <td>0</td>\n      <td>0</td>\n      <td>0</td>\n      <td>0</td>\n      <td>0</td>\n      <td>...</td>\n      <td>0</td>\n      <td>0</td>\n      <td>0</td>\n      <td>0</td>\n      <td>0</td>\n      <td>0</td>\n      <td>0</td>\n      <td>0</td>\n      <td>0</td>\n      <td>0</td>\n    </tr>\n    <tr>\n      <th>96</th>\n      <td>0</td>\n      <td>0</td>\n      <td>0</td>\n      <td>0</td>\n      <td>0</td>\n      <td>0</td>\n      <td>0</td>\n      <td>0</td>\n      <td>0</td>\n      <td>0</td>\n      <td>...</td>\n      <td>0</td>\n      <td>0</td>\n      <td>0</td>\n      <td>0</td>\n      <td>0</td>\n      <td>0</td>\n      <td>0</td>\n      <td>0</td>\n      <td>0</td>\n      <td>0</td>\n    </tr>\n    <tr>\n      <th>98</th>\n      <td>0</td>\n      <td>0</td>\n      <td>0</td>\n      <td>0</td>\n      <td>0</td>\n      <td>0</td>\n      <td>0</td>\n      <td>0</td>\n      <td>0</td>\n      <td>0</td>\n      <td>...</td>\n      <td>0</td>\n      <td>0</td>\n      <td>0</td>\n      <td>0</td>\n      <td>0</td>\n      <td>0</td>\n      <td>0</td>\n      <td>0</td>\n      <td>0</td>\n      <td>0</td>\n    </tr>\n    <tr>\n      <th>...</th>\n      <td>...</td>\n      <td>...</td>\n      <td>...</td>\n      <td>...</td>\n      <td>...</td>\n      <td>...</td>\n      <td>...</td>\n      <td>...</td>\n      <td>...</td>\n      <td>...</td>\n      <td>...</td>\n      <td>...</td>\n      <td>...</td>\n      <td>...</td>\n      <td>...</td>\n      <td>...</td>\n      <td>...</td>\n      <td>...</td>\n      <td>...</td>\n      <td>...</td>\n      <td>...</td>\n    </tr>\n    <tr>\n      <th>3421049</th>\n      <td>0</td>\n      <td>0</td>\n      <td>0</td>\n      <td>0</td>\n      <td>0</td>\n      <td>0</td>\n      <td>0</td>\n      <td>0</td>\n      <td>0</td>\n      <td>0</td>\n      <td>...</td>\n      <td>0</td>\n      <td>0</td>\n      <td>0</td>\n      <td>0</td>\n      <td>0</td>\n      <td>0</td>\n      <td>0</td>\n      <td>0</td>\n      <td>0</td>\n      <td>0</td>\n    </tr>\n    <tr>\n      <th>3421056</th>\n      <td>0</td>\n      <td>0</td>\n      <td>0</td>\n      <td>0</td>\n      <td>0</td>\n      <td>0</td>\n      <td>0</td>\n      <td>0</td>\n      <td>0</td>\n      <td>0</td>\n      <td>...</td>\n      <td>0</td>\n      <td>0</td>\n      <td>0</td>\n      <td>0</td>\n      <td>0</td>\n      <td>0</td>\n      <td>0</td>\n      <td>0</td>\n      <td>0</td>\n      <td>0</td>\n    </tr>\n    <tr>\n      <th>3421058</th>\n      <td>0</td>\n      <td>0</td>\n      <td>0</td>\n      <td>0</td>\n      <td>0</td>\n      <td>0</td>\n      <td>0</td>\n      <td>0</td>\n      <td>0</td>\n      <td>0</td>\n      <td>...</td>\n      <td>0</td>\n      <td>0</td>\n      <td>0</td>\n      <td>0</td>\n      <td>0</td>\n      <td>0</td>\n      <td>0</td>\n      <td>0</td>\n      <td>0</td>\n      <td>0</td>\n    </tr>\n    <tr>\n      <th>3421063</th>\n      <td>0</td>\n      <td>0</td>\n      <td>0</td>\n      <td>0</td>\n      <td>0</td>\n      <td>0</td>\n      <td>0</td>\n      <td>0</td>\n      <td>0</td>\n      <td>0</td>\n      <td>...</td>\n      <td>0</td>\n      <td>0</td>\n      <td>0</td>\n      <td>0</td>\n      <td>0</td>\n      <td>0</td>\n      <td>0</td>\n      <td>0</td>\n      <td>0</td>\n      <td>0</td>\n    </tr>\n    <tr>\n      <th>3421070</th>\n      <td>0</td>\n      <td>0</td>\n      <td>0</td>\n      <td>0</td>\n      <td>0</td>\n      <td>0</td>\n      <td>0</td>\n      <td>0</td>\n      <td>0</td>\n      <td>0</td>\n      <td>...</td>\n      <td>0</td>\n      <td>0</td>\n      <td>0</td>\n      <td>0</td>\n      <td>0</td>\n      <td>0</td>\n      <td>0</td>\n      <td>0</td>\n      <td>0</td>\n      <td>0</td>\n    </tr>\n  </tbody>\n</table>\n<p>131209 rows × 39123 columns</p>\n</div>"
     },
     "execution_count": 3,
     "metadata": {},
     "output_type": "execute_result"
    }
   ],
   "source": [
    "# Create the interaction interaction matrix\n",
    "interaction_matrix = df.pivot_table(index='order_id', columns='product_id', aggfunc='size', fill_value=0)\n",
    "interaction_matrix"
   ],
   "metadata": {
    "collapsed": false,
    "ExecuteTime": {
     "end_time": "2024-06-07T11:50:31.628740Z",
     "start_time": "2024-06-07T11:45:39.737554Z"
    }
   },
   "id": "f2ea3d295101e88f"
  },
  {
   "cell_type": "code",
   "execution_count": null,
   "outputs": [],
   "source": [
    "from sklearn.model_selection import train_test_split\n",
    "\n",
    "# Split the data into train and test sets\n",
    "train_orders, test_orders = train_test_split(interaction_matrix, train_size=0.8, random_state=42)\n",
    "\n",
    "# Function to hide some items in the test set\n",
    "def leave_k_out(interaction_matrix, k=1):\n",
    "    test_matrix = interaction_matrix.copy()\n",
    "    hidden_items = {}\n",
    "    for order_id in interaction_matrix.index:\n",
    "        nonzero_indices = interaction_matrix.loc[order_id].to_numpy().nonzero()[0]\n",
    "        if len(nonzero_indices) > k:\n",
    "            hidden_indices = np.random.choice(nonzero_indices, size=k, replace=False)\n",
    "            hidden_items[order_id] = hidden_indices\n",
    "            test_matrix.loc[order_id, hidden_indices] = 0\n",
    "    return test_matrix, hidden_items\n",
    "\n",
    "# Apply leave-k-out on the test set\n",
    "test_orders_hidden, hidden_items = leave_k_out(test_orders, k=1)"
   ],
   "metadata": {
    "collapsed": false,
    "is_executing": true,
    "ExecuteTime": {
     "start_time": "2024-06-07T10:22:58.316256Z"
    }
   },
   "id": "e3e2030c52974266"
  },
  {
   "cell_type": "code",
   "execution_count": 4,
   "outputs": [
    {
     "name": "stderr",
     "output_type": "stream",
     "text": [
      "/var/folders/_1/jzxxkx2s39l5jxsz34sqhj280000gn/T/ipykernel_82120/2349813229.py:20: DeprecationWarning: DataFrameGroupBy.apply operated on the grouping columns. This behavior is deprecated, and in a future version of pandas the grouping columns will be excluded from the operation. Either pass `include_groups=False` to exclude the groupings or explicitly select the grouping columns after groupby to silence this warning.\n",
      "  hidden_items = nonzero_df.groupby('order_index').apply(lambda x: x.sample(k) if len(x) > k else x)\n"
     ]
    }
   ],
   "source": [
    "from sklearn.model_selection import train_test_split\n",
    "\n",
    "# Split the data into train and test sets\n",
    "train_orders, test_orders = train_test_split(interaction_matrix, train_size=0.8, random_state=42)\n",
    "\n",
    "# Function to hide some items in the test set\n",
    "def leave_k_out(interaction_matrix, k=1):\n",
    "    test_matrix = interaction_matrix.copy()\n",
    "    \n",
    "    # Get the positions of all non-zero entries\n",
    "    nonzero_positions = np.nonzero(test_matrix.values)\n",
    "    \n",
    "    # Create a DataFrame with these positions\n",
    "    nonzero_df = pd.DataFrame({\n",
    "        'order_index': nonzero_positions[0],\n",
    "        'product_index': nonzero_positions[1]\n",
    "    })\n",
    "    \n",
    "    # Group by order index to simulate the leave-k-out per order\n",
    "    hidden_items = nonzero_df.groupby('order_index').apply(lambda x: x.sample(k) if len(x) > k else x)\n",
    "    \n",
    "    # Flatten the MultiIndex\n",
    "    hidden_items = hidden_items.reset_index(drop=True)\n",
    "    \n",
    "    # Hide the selected items in the test matrix\n",
    "    test_matrix.values[hidden_items['order_index'], hidden_items['product_index']] = 0\n",
    "    \n",
    "    # Convert order and product indices back to their original labels\n",
    "    hidden_items['order_id'] = interaction_matrix.index[hidden_items['order_index']]\n",
    "    hidden_items['product_id'] = interaction_matrix.columns[hidden_items['product_index']]\n",
    "    \n",
    "    # Create a dictionary for hidden items\n",
    "    hidden_items_dict = hidden_items.groupby('order_id')['product_id'].apply(list).to_dict()\n",
    "    \n",
    "    return test_matrix, hidden_items_dict\n",
    "\n",
    "# Apply leave-k-out on the test set\n",
    "test_orders_hidden, hidden_items = leave_k_out(test_orders, k=1)\n"
   ],
   "metadata": {
    "collapsed": false,
    "ExecuteTime": {
     "end_time": "2024-06-07T11:53:18.727951Z",
     "start_time": "2024-06-07T11:51:25.536070Z"
    }
   },
   "id": "c3884870e2a2eb06"
  },
  {
   "cell_type": "code",
   "execution_count": 8,
   "outputs": [
    {
     "data": {
      "text/plain": "product_id  1  10  100  1000  10000  10001  10005  10006  10008  10009  ...  \\\norder_id                                                                ...   \n3007878     0   0    0     0      0      0      0      0      0      0  ...   \n1727889     0   0    0     0      0      0      0      0      0      0  ...   \n2829462     0   0    0     0      0      0      0      0      0      0  ...   \n3261021     0   0    0     0      0      0      0      0      0      0  ...   \n1711491     0   0    0     0      0      0      0      0      0      0  ...   \n\nproduct_id  9985  9986  9989  999  9990  9993  9995  9996  9997  9998  \norder_id                                                               \n3007878        0     0     0    0     0     0     0     0     0     0  \n1727889        0     0     0    0     0     0     0     0     0     0  \n2829462        0     0     0    0     0     0     0     0     0     0  \n3261021        0     0     0    0     0     0     0     0     0     0  \n1711491        0     0     0    0     0     0     0     0     0     0  \n\n[5 rows x 39123 columns]",
      "text/html": "<div>\n<style scoped>\n    .dataframe tbody tr th:only-of-type {\n        vertical-align: middle;\n    }\n\n    .dataframe tbody tr th {\n        vertical-align: top;\n    }\n\n    .dataframe thead th {\n        text-align: right;\n    }\n</style>\n<table border=\"1\" class=\"dataframe\">\n  <thead>\n    <tr style=\"text-align: right;\">\n      <th>product_id</th>\n      <th>1</th>\n      <th>10</th>\n      <th>100</th>\n      <th>1000</th>\n      <th>10000</th>\n      <th>10001</th>\n      <th>10005</th>\n      <th>10006</th>\n      <th>10008</th>\n      <th>10009</th>\n      <th>...</th>\n      <th>9985</th>\n      <th>9986</th>\n      <th>9989</th>\n      <th>999</th>\n      <th>9990</th>\n      <th>9993</th>\n      <th>9995</th>\n      <th>9996</th>\n      <th>9997</th>\n      <th>9998</th>\n    </tr>\n    <tr>\n      <th>order_id</th>\n      <th></th>\n      <th></th>\n      <th></th>\n      <th></th>\n      <th></th>\n      <th></th>\n      <th></th>\n      <th></th>\n      <th></th>\n      <th></th>\n      <th></th>\n      <th></th>\n      <th></th>\n      <th></th>\n      <th></th>\n      <th></th>\n      <th></th>\n      <th></th>\n      <th></th>\n      <th></th>\n      <th></th>\n    </tr>\n  </thead>\n  <tbody>\n    <tr>\n      <th>3007878</th>\n      <td>0</td>\n      <td>0</td>\n      <td>0</td>\n      <td>0</td>\n      <td>0</td>\n      <td>0</td>\n      <td>0</td>\n      <td>0</td>\n      <td>0</td>\n      <td>0</td>\n      <td>...</td>\n      <td>0</td>\n      <td>0</td>\n      <td>0</td>\n      <td>0</td>\n      <td>0</td>\n      <td>0</td>\n      <td>0</td>\n      <td>0</td>\n      <td>0</td>\n      <td>0</td>\n    </tr>\n    <tr>\n      <th>1727889</th>\n      <td>0</td>\n      <td>0</td>\n      <td>0</td>\n      <td>0</td>\n      <td>0</td>\n      <td>0</td>\n      <td>0</td>\n      <td>0</td>\n      <td>0</td>\n      <td>0</td>\n      <td>...</td>\n      <td>0</td>\n      <td>0</td>\n      <td>0</td>\n      <td>0</td>\n      <td>0</td>\n      <td>0</td>\n      <td>0</td>\n      <td>0</td>\n      <td>0</td>\n      <td>0</td>\n    </tr>\n    <tr>\n      <th>2829462</th>\n      <td>0</td>\n      <td>0</td>\n      <td>0</td>\n      <td>0</td>\n      <td>0</td>\n      <td>0</td>\n      <td>0</td>\n      <td>0</td>\n      <td>0</td>\n      <td>0</td>\n      <td>...</td>\n      <td>0</td>\n      <td>0</td>\n      <td>0</td>\n      <td>0</td>\n      <td>0</td>\n      <td>0</td>\n      <td>0</td>\n      <td>0</td>\n      <td>0</td>\n      <td>0</td>\n    </tr>\n    <tr>\n      <th>3261021</th>\n      <td>0</td>\n      <td>0</td>\n      <td>0</td>\n      <td>0</td>\n      <td>0</td>\n      <td>0</td>\n      <td>0</td>\n      <td>0</td>\n      <td>0</td>\n      <td>0</td>\n      <td>...</td>\n      <td>0</td>\n      <td>0</td>\n      <td>0</td>\n      <td>0</td>\n      <td>0</td>\n      <td>0</td>\n      <td>0</td>\n      <td>0</td>\n      <td>0</td>\n      <td>0</td>\n    </tr>\n    <tr>\n      <th>1711491</th>\n      <td>0</td>\n      <td>0</td>\n      <td>0</td>\n      <td>0</td>\n      <td>0</td>\n      <td>0</td>\n      <td>0</td>\n      <td>0</td>\n      <td>0</td>\n      <td>0</td>\n      <td>...</td>\n      <td>0</td>\n      <td>0</td>\n      <td>0</td>\n      <td>0</td>\n      <td>0</td>\n      <td>0</td>\n      <td>0</td>\n      <td>0</td>\n      <td>0</td>\n      <td>0</td>\n    </tr>\n  </tbody>\n</table>\n<p>5 rows × 39123 columns</p>\n</div>"
     },
     "execution_count": 8,
     "metadata": {},
     "output_type": "execute_result"
    }
   ],
   "source": [
    "test_orders_hidden.head()"
   ],
   "metadata": {
    "collapsed": false,
    "ExecuteTime": {
     "end_time": "2024-06-07T11:54:16.407259Z",
     "start_time": "2024-06-07T11:54:15.706066Z"
    }
   },
   "id": "4569ca413ac8b0d6"
  },
  {
   "cell_type": "code",
   "execution_count": 9,
   "outputs": [
    {
     "data": {
      "text/plain": "product_id  1  10  100  1000  10000  10001  10005  10006  10008  10009  ...  \\\norder_id                                                                ...   \n3007878     0   0    0     0      0      0      0      0      0      0  ...   \n1727889     0   0    0     0      0      0      0      0      0      0  ...   \n2829462     0   0    0     0      0      0      0      0      0      0  ...   \n3261021     0   0    0     0      0      0      0      0      0      0  ...   \n1711491     0   0    0     0      0      0      0      0      0      0  ...   \n\nproduct_id  9985  9986  9989  999  9990  9993  9995  9996  9997  9998  \norder_id                                                               \n3007878        0     0     0    0     0     0     0     0     0     0  \n1727889        0     0     0    0     0     0     0     0     0     0  \n2829462        0     0     0    0     0     0     0     0     0     0  \n3261021        0     0     0    0     0     0     0     0     0     0  \n1711491        0     0     0    0     0     0     0     0     0     0  \n\n[5 rows x 39123 columns]",
      "text/html": "<div>\n<style scoped>\n    .dataframe tbody tr th:only-of-type {\n        vertical-align: middle;\n    }\n\n    .dataframe tbody tr th {\n        vertical-align: top;\n    }\n\n    .dataframe thead th {\n        text-align: right;\n    }\n</style>\n<table border=\"1\" class=\"dataframe\">\n  <thead>\n    <tr style=\"text-align: right;\">\n      <th>product_id</th>\n      <th>1</th>\n      <th>10</th>\n      <th>100</th>\n      <th>1000</th>\n      <th>10000</th>\n      <th>10001</th>\n      <th>10005</th>\n      <th>10006</th>\n      <th>10008</th>\n      <th>10009</th>\n      <th>...</th>\n      <th>9985</th>\n      <th>9986</th>\n      <th>9989</th>\n      <th>999</th>\n      <th>9990</th>\n      <th>9993</th>\n      <th>9995</th>\n      <th>9996</th>\n      <th>9997</th>\n      <th>9998</th>\n    </tr>\n    <tr>\n      <th>order_id</th>\n      <th></th>\n      <th></th>\n      <th></th>\n      <th></th>\n      <th></th>\n      <th></th>\n      <th></th>\n      <th></th>\n      <th></th>\n      <th></th>\n      <th></th>\n      <th></th>\n      <th></th>\n      <th></th>\n      <th></th>\n      <th></th>\n      <th></th>\n      <th></th>\n      <th></th>\n      <th></th>\n      <th></th>\n    </tr>\n  </thead>\n  <tbody>\n    <tr>\n      <th>3007878</th>\n      <td>0</td>\n      <td>0</td>\n      <td>0</td>\n      <td>0</td>\n      <td>0</td>\n      <td>0</td>\n      <td>0</td>\n      <td>0</td>\n      <td>0</td>\n      <td>0</td>\n      <td>...</td>\n      <td>0</td>\n      <td>0</td>\n      <td>0</td>\n      <td>0</td>\n      <td>0</td>\n      <td>0</td>\n      <td>0</td>\n      <td>0</td>\n      <td>0</td>\n      <td>0</td>\n    </tr>\n    <tr>\n      <th>1727889</th>\n      <td>0</td>\n      <td>0</td>\n      <td>0</td>\n      <td>0</td>\n      <td>0</td>\n      <td>0</td>\n      <td>0</td>\n      <td>0</td>\n      <td>0</td>\n      <td>0</td>\n      <td>...</td>\n      <td>0</td>\n      <td>0</td>\n      <td>0</td>\n      <td>0</td>\n      <td>0</td>\n      <td>0</td>\n      <td>0</td>\n      <td>0</td>\n      <td>0</td>\n      <td>0</td>\n    </tr>\n    <tr>\n      <th>2829462</th>\n      <td>0</td>\n      <td>0</td>\n      <td>0</td>\n      <td>0</td>\n      <td>0</td>\n      <td>0</td>\n      <td>0</td>\n      <td>0</td>\n      <td>0</td>\n      <td>0</td>\n      <td>...</td>\n      <td>0</td>\n      <td>0</td>\n      <td>0</td>\n      <td>0</td>\n      <td>0</td>\n      <td>0</td>\n      <td>0</td>\n      <td>0</td>\n      <td>0</td>\n      <td>0</td>\n    </tr>\n    <tr>\n      <th>3261021</th>\n      <td>0</td>\n      <td>0</td>\n      <td>0</td>\n      <td>0</td>\n      <td>0</td>\n      <td>0</td>\n      <td>0</td>\n      <td>0</td>\n      <td>0</td>\n      <td>0</td>\n      <td>...</td>\n      <td>0</td>\n      <td>0</td>\n      <td>0</td>\n      <td>0</td>\n      <td>0</td>\n      <td>0</td>\n      <td>0</td>\n      <td>0</td>\n      <td>0</td>\n      <td>0</td>\n    </tr>\n    <tr>\n      <th>1711491</th>\n      <td>0</td>\n      <td>0</td>\n      <td>0</td>\n      <td>0</td>\n      <td>0</td>\n      <td>0</td>\n      <td>0</td>\n      <td>0</td>\n      <td>0</td>\n      <td>0</td>\n      <td>...</td>\n      <td>0</td>\n      <td>0</td>\n      <td>0</td>\n      <td>0</td>\n      <td>0</td>\n      <td>0</td>\n      <td>0</td>\n      <td>0</td>\n      <td>0</td>\n      <td>0</td>\n    </tr>\n  </tbody>\n</table>\n<p>5 rows × 39123 columns</p>\n</div>"
     },
     "execution_count": 9,
     "metadata": {},
     "output_type": "execute_result"
    }
   ],
   "source": [
    "test_orders.head()"
   ],
   "metadata": {
    "collapsed": false,
    "ExecuteTime": {
     "end_time": "2024-06-07T11:54:26.441835Z",
     "start_time": "2024-06-07T11:54:26.423811Z"
    }
   },
   "id": "b9538e74df9c015"
  },
  {
   "cell_type": "code",
   "execution_count": null,
   "outputs": [],
   "source": [
    "from sklearn.neighbors import NearestNeighbors\n",
    "\n",
    "# Initialize the k-NN model\n",
    "knn = NearestNeighbors(metric='cosine', algorithm='brute')\n",
    "\n",
    "# Fit the model on the training data\n",
    "knn.fit(train_orders)"
   ],
   "metadata": {
    "collapsed": false,
    "is_executing": true,
    "ExecuteTime": {
     "start_time": "2024-06-07T11:55:07.752709Z"
    }
   },
   "id": "a91f148cfae176f3"
  }
 ],
 "metadata": {
  "kernelspec": {
   "display_name": "Python 3",
   "language": "python",
   "name": "python3"
  },
  "language_info": {
   "codemirror_mode": {
    "name": "ipython",
    "version": 2
   },
   "file_extension": ".py",
   "mimetype": "text/x-python",
   "name": "python",
   "nbconvert_exporter": "python",
   "pygments_lexer": "ipython2",
   "version": "2.7.6"
  }
 },
 "nbformat": 4,
 "nbformat_minor": 5
}
