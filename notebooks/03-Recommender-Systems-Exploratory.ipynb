{
 "cells": [
  {
   "cell_type": "code",
   "execution_count": 1,
   "id": "initial_id",
   "metadata": {
    "collapsed": true,
    "ExecuteTime": {
     "end_time": "2024-06-13T14:33:45.070927Z",
     "start_time": "2024-06-13T14:33:44.796099Z"
    }
   },
   "outputs": [],
   "source": [
    "import pandas as pd\n",
    "import sys\n",
    "sys.path.append('../supercenter-product-recommender')  # Adjust the path as necessary\n",
    "from db_utilities import read_table\n",
    "from mlxtend.frequent_patterns import apriori, association_rules\n",
    "import matplotlib.pyplot as plt\n",
    "import numpy as np"
   ]
  },
  {
   "cell_type": "code",
   "execution_count": 2,
   "outputs": [
    {
     "data": {
      "text/plain": "row_id                   int64\norder_id                 int64\nproduct_id              object\ncart_inclusion_order     int64\nreordered                int64\nproduct_name            object\naisle_id                object\ndepartment_id           object\ndepartment              object\naisle                   object\ndtype: object"
     },
     "execution_count": 2,
     "metadata": {},
     "output_type": "execute_result"
    }
   ],
   "source": [
    "df = read_table('processed_orders_data')\n",
    "df.dtypes"
   ],
   "metadata": {
    "collapsed": false,
    "ExecuteTime": {
     "end_time": "2024-06-12T19:38:39.505511Z",
     "start_time": "2024-06-12T19:38:30.050536Z"
    }
   },
   "id": "742b12d01cdbcc59"
  },
  {
   "cell_type": "code",
   "execution_count": 3,
   "outputs": [
    {
     "data": {
      "text/plain": "   row_id  order_id product_id  cart_inclusion_order  reordered  \\\n0       0         1      49302                     1          1   \n1       1         1      11109                     2          1   \n2       2         1      10246                     3          0   \n3       3         1      49683                     4          0   \n4       4         1      43633                     5          1   \n5       5         1      13176                     6          0   \n6       6         1      47209                     7          0   \n7       7         1      22035                     8          1   \n8       8        36      39612                     1          0   \n9       9        36      19660                     2          1   \n\n                                        product_name aisle_id department_id  \\\n0                               EL YOGUR DE BULGARIA      120            16   \n1  4% ORGÁNICO QUESO GRASA DE LECHE LECHE ENTERA ...      108            16   \n2                        CORAZONES DE APIO ORGÁNICOS       83             4   \n3                                       KIRBY PEPINO       83             4   \n4  LAS SARDINAS LIGERAMENTE AHUMADO EN ACEITE DE ...       95            15   \n5                           BOLSA DE BANANO ORGÁNICO       24             4   \n6                                            Missing  Missing       Missing   \n7                        QUESO ORGÁNICO TOTAL CADENA       21            16   \n8                      QUESO RALLADO PECORINO ROMANO        2            16   \n9                                  AGUA DE MANANTIAL      115             7   \n\n            department                        aisle  \n0     HUEVOS Y LÁCTEOS                        YOGUR  \n1     HUEVOS Y LÁCTEOS          OTROS QUESOS CREMAS  \n2    FRUTAS Y VERDURAS            VEGETALES FRESCOS  \n3    FRUTAS Y VERDURAS            VEGETALES FRESCOS  \n4  PRODUCTOS ENLATADOS      MARISCOS CARNE ENLATADA  \n5    FRUTAS Y VERDURAS               FRUTAS FRESCAS  \n6              Missing                      Missing  \n7     HUEVOS Y LÁCTEOS             QUESOS ENVASADOS  \n8     HUEVOS Y LÁCTEOS       QUESOS DE ESPECIALIDAD  \n9              BEBIDAS  SELTZER AGUA Y AGUA CON GAS  ",
      "text/html": "<div>\n<style scoped>\n    .dataframe tbody tr th:only-of-type {\n        vertical-align: middle;\n    }\n\n    .dataframe tbody tr th {\n        vertical-align: top;\n    }\n\n    .dataframe thead th {\n        text-align: right;\n    }\n</style>\n<table border=\"1\" class=\"dataframe\">\n  <thead>\n    <tr style=\"text-align: right;\">\n      <th></th>\n      <th>row_id</th>\n      <th>order_id</th>\n      <th>product_id</th>\n      <th>cart_inclusion_order</th>\n      <th>reordered</th>\n      <th>product_name</th>\n      <th>aisle_id</th>\n      <th>department_id</th>\n      <th>department</th>\n      <th>aisle</th>\n    </tr>\n  </thead>\n  <tbody>\n    <tr>\n      <th>0</th>\n      <td>0</td>\n      <td>1</td>\n      <td>49302</td>\n      <td>1</td>\n      <td>1</td>\n      <td>EL YOGUR DE BULGARIA</td>\n      <td>120</td>\n      <td>16</td>\n      <td>HUEVOS Y LÁCTEOS</td>\n      <td>YOGUR</td>\n    </tr>\n    <tr>\n      <th>1</th>\n      <td>1</td>\n      <td>1</td>\n      <td>11109</td>\n      <td>2</td>\n      <td>1</td>\n      <td>4% ORGÁNICO QUESO GRASA DE LECHE LECHE ENTERA ...</td>\n      <td>108</td>\n      <td>16</td>\n      <td>HUEVOS Y LÁCTEOS</td>\n      <td>OTROS QUESOS CREMAS</td>\n    </tr>\n    <tr>\n      <th>2</th>\n      <td>2</td>\n      <td>1</td>\n      <td>10246</td>\n      <td>3</td>\n      <td>0</td>\n      <td>CORAZONES DE APIO ORGÁNICOS</td>\n      <td>83</td>\n      <td>4</td>\n      <td>FRUTAS Y VERDURAS</td>\n      <td>VEGETALES FRESCOS</td>\n    </tr>\n    <tr>\n      <th>3</th>\n      <td>3</td>\n      <td>1</td>\n      <td>49683</td>\n      <td>4</td>\n      <td>0</td>\n      <td>KIRBY PEPINO</td>\n      <td>83</td>\n      <td>4</td>\n      <td>FRUTAS Y VERDURAS</td>\n      <td>VEGETALES FRESCOS</td>\n    </tr>\n    <tr>\n      <th>4</th>\n      <td>4</td>\n      <td>1</td>\n      <td>43633</td>\n      <td>5</td>\n      <td>1</td>\n      <td>LAS SARDINAS LIGERAMENTE AHUMADO EN ACEITE DE ...</td>\n      <td>95</td>\n      <td>15</td>\n      <td>PRODUCTOS ENLATADOS</td>\n      <td>MARISCOS CARNE ENLATADA</td>\n    </tr>\n    <tr>\n      <th>5</th>\n      <td>5</td>\n      <td>1</td>\n      <td>13176</td>\n      <td>6</td>\n      <td>0</td>\n      <td>BOLSA DE BANANO ORGÁNICO</td>\n      <td>24</td>\n      <td>4</td>\n      <td>FRUTAS Y VERDURAS</td>\n      <td>FRUTAS FRESCAS</td>\n    </tr>\n    <tr>\n      <th>6</th>\n      <td>6</td>\n      <td>1</td>\n      <td>47209</td>\n      <td>7</td>\n      <td>0</td>\n      <td>Missing</td>\n      <td>Missing</td>\n      <td>Missing</td>\n      <td>Missing</td>\n      <td>Missing</td>\n    </tr>\n    <tr>\n      <th>7</th>\n      <td>7</td>\n      <td>1</td>\n      <td>22035</td>\n      <td>8</td>\n      <td>1</td>\n      <td>QUESO ORGÁNICO TOTAL CADENA</td>\n      <td>21</td>\n      <td>16</td>\n      <td>HUEVOS Y LÁCTEOS</td>\n      <td>QUESOS ENVASADOS</td>\n    </tr>\n    <tr>\n      <th>8</th>\n      <td>8</td>\n      <td>36</td>\n      <td>39612</td>\n      <td>1</td>\n      <td>0</td>\n      <td>QUESO RALLADO PECORINO ROMANO</td>\n      <td>2</td>\n      <td>16</td>\n      <td>HUEVOS Y LÁCTEOS</td>\n      <td>QUESOS DE ESPECIALIDAD</td>\n    </tr>\n    <tr>\n      <th>9</th>\n      <td>9</td>\n      <td>36</td>\n      <td>19660</td>\n      <td>2</td>\n      <td>1</td>\n      <td>AGUA DE MANANTIAL</td>\n      <td>115</td>\n      <td>7</td>\n      <td>BEBIDAS</td>\n      <td>SELTZER AGUA Y AGUA CON GAS</td>\n    </tr>\n  </tbody>\n</table>\n</div>"
     },
     "execution_count": 3,
     "metadata": {},
     "output_type": "execute_result"
    }
   ],
   "source": [
    "df.head(10)"
   ],
   "metadata": {
    "collapsed": false,
    "ExecuteTime": {
     "end_time": "2024-06-07T14:51:30.254794Z",
     "start_time": "2024-06-07T14:51:30.246376Z"
    }
   },
   "id": "eb76092fe2ef829b"
  },
  {
   "cell_type": "markdown",
   "source": [
    "## Setting the Baseline\n",
    "\n",
    "KNN with just product co-occurence"
   ],
   "metadata": {
    "collapsed": false
   },
   "id": "a7f18ca626363c60"
  },
  {
   "cell_type": "code",
   "execution_count": 3,
   "outputs": [
    {
     "name": "stderr",
     "output_type": "stream",
     "text": [
      "/var/folders/_1/jzxxkx2s39l5jxsz34sqhj280000gn/T/ipykernel_9615/149583140.py:2: PerformanceWarning: The following operation may generate 5133289707 cells in the resulting pandas object.\n",
      "  interaction_matrix = df.pivot_table(index='order_id', columns='product_id', aggfunc='size', fill_value=0)\n"
     ]
    },
    {
     "data": {
      "text/plain": "product_id  1  10  100  1000  10000  10001  10005  10006  10008  10009  ...  \\\norder_id                                                                ...   \n1           0   0    0     0      0      0      0      0      0      0  ...   \n36          0   0    0     0      0      0      0      0      0      0  ...   \n38          0   0    0     0      0      0      0      0      0      0  ...   \n96          0   0    0     0      0      0      0      0      0      0  ...   \n98          0   0    0     0      0      0      0      0      0      0  ...   \n...        ..  ..  ...   ...    ...    ...    ...    ...    ...    ...  ...   \n3421049     0   0    0     0      0      0      0      0      0      0  ...   \n3421056     0   0    0     0      0      0      0      0      0      0  ...   \n3421058     0   0    0     0      0      0      0      0      0      0  ...   \n3421063     0   0    0     0      0      0      0      0      0      0  ...   \n3421070     0   0    0     0      0      0      0      0      0      0  ...   \n\nproduct_id  9985  9986  9989  999  9990  9993  9995  9996  9997  9998  \norder_id                                                               \n1              0     0     0    0     0     0     0     0     0     0  \n36             0     0     0    0     0     0     0     0     0     0  \n38             0     0     0    0     0     0     0     0     0     0  \n96             0     0     0    0     0     0     0     0     0     0  \n98             0     0     0    0     0     0     0     0     0     0  \n...          ...   ...   ...  ...   ...   ...   ...   ...   ...   ...  \n3421049        0     0     0    0     0     0     0     0     0     0  \n3421056        0     0     0    0     0     0     0     0     0     0  \n3421058        0     0     0    0     0     0     0     0     0     0  \n3421063        0     0     0    0     0     0     0     0     0     0  \n3421070        0     0     0    0     0     0     0     0     0     0  \n\n[131209 rows x 39123 columns]",
      "text/html": "<div>\n<style scoped>\n    .dataframe tbody tr th:only-of-type {\n        vertical-align: middle;\n    }\n\n    .dataframe tbody tr th {\n        vertical-align: top;\n    }\n\n    .dataframe thead th {\n        text-align: right;\n    }\n</style>\n<table border=\"1\" class=\"dataframe\">\n  <thead>\n    <tr style=\"text-align: right;\">\n      <th>product_id</th>\n      <th>1</th>\n      <th>10</th>\n      <th>100</th>\n      <th>1000</th>\n      <th>10000</th>\n      <th>10001</th>\n      <th>10005</th>\n      <th>10006</th>\n      <th>10008</th>\n      <th>10009</th>\n      <th>...</th>\n      <th>9985</th>\n      <th>9986</th>\n      <th>9989</th>\n      <th>999</th>\n      <th>9990</th>\n      <th>9993</th>\n      <th>9995</th>\n      <th>9996</th>\n      <th>9997</th>\n      <th>9998</th>\n    </tr>\n    <tr>\n      <th>order_id</th>\n      <th></th>\n      <th></th>\n      <th></th>\n      <th></th>\n      <th></th>\n      <th></th>\n      <th></th>\n      <th></th>\n      <th></th>\n      <th></th>\n      <th></th>\n      <th></th>\n      <th></th>\n      <th></th>\n      <th></th>\n      <th></th>\n      <th></th>\n      <th></th>\n      <th></th>\n      <th></th>\n      <th></th>\n    </tr>\n  </thead>\n  <tbody>\n    <tr>\n      <th>1</th>\n      <td>0</td>\n      <td>0</td>\n      <td>0</td>\n      <td>0</td>\n      <td>0</td>\n      <td>0</td>\n      <td>0</td>\n      <td>0</td>\n      <td>0</td>\n      <td>0</td>\n      <td>...</td>\n      <td>0</td>\n      <td>0</td>\n      <td>0</td>\n      <td>0</td>\n      <td>0</td>\n      <td>0</td>\n      <td>0</td>\n      <td>0</td>\n      <td>0</td>\n      <td>0</td>\n    </tr>\n    <tr>\n      <th>36</th>\n      <td>0</td>\n      <td>0</td>\n      <td>0</td>\n      <td>0</td>\n      <td>0</td>\n      <td>0</td>\n      <td>0</td>\n      <td>0</td>\n      <td>0</td>\n      <td>0</td>\n      <td>...</td>\n      <td>0</td>\n      <td>0</td>\n      <td>0</td>\n      <td>0</td>\n      <td>0</td>\n      <td>0</td>\n      <td>0</td>\n      <td>0</td>\n      <td>0</td>\n      <td>0</td>\n    </tr>\n    <tr>\n      <th>38</th>\n      <td>0</td>\n      <td>0</td>\n      <td>0</td>\n      <td>0</td>\n      <td>0</td>\n      <td>0</td>\n      <td>0</td>\n      <td>0</td>\n      <td>0</td>\n      <td>0</td>\n      <td>...</td>\n      <td>0</td>\n      <td>0</td>\n      <td>0</td>\n      <td>0</td>\n      <td>0</td>\n      <td>0</td>\n      <td>0</td>\n      <td>0</td>\n      <td>0</td>\n      <td>0</td>\n    </tr>\n    <tr>\n      <th>96</th>\n      <td>0</td>\n      <td>0</td>\n      <td>0</td>\n      <td>0</td>\n      <td>0</td>\n      <td>0</td>\n      <td>0</td>\n      <td>0</td>\n      <td>0</td>\n      <td>0</td>\n      <td>...</td>\n      <td>0</td>\n      <td>0</td>\n      <td>0</td>\n      <td>0</td>\n      <td>0</td>\n      <td>0</td>\n      <td>0</td>\n      <td>0</td>\n      <td>0</td>\n      <td>0</td>\n    </tr>\n    <tr>\n      <th>98</th>\n      <td>0</td>\n      <td>0</td>\n      <td>0</td>\n      <td>0</td>\n      <td>0</td>\n      <td>0</td>\n      <td>0</td>\n      <td>0</td>\n      <td>0</td>\n      <td>0</td>\n      <td>...</td>\n      <td>0</td>\n      <td>0</td>\n      <td>0</td>\n      <td>0</td>\n      <td>0</td>\n      <td>0</td>\n      <td>0</td>\n      <td>0</td>\n      <td>0</td>\n      <td>0</td>\n    </tr>\n    <tr>\n      <th>...</th>\n      <td>...</td>\n      <td>...</td>\n      <td>...</td>\n      <td>...</td>\n      <td>...</td>\n      <td>...</td>\n      <td>...</td>\n      <td>...</td>\n      <td>...</td>\n      <td>...</td>\n      <td>...</td>\n      <td>...</td>\n      <td>...</td>\n      <td>...</td>\n      <td>...</td>\n      <td>...</td>\n      <td>...</td>\n      <td>...</td>\n      <td>...</td>\n      <td>...</td>\n      <td>...</td>\n    </tr>\n    <tr>\n      <th>3421049</th>\n      <td>0</td>\n      <td>0</td>\n      <td>0</td>\n      <td>0</td>\n      <td>0</td>\n      <td>0</td>\n      <td>0</td>\n      <td>0</td>\n      <td>0</td>\n      <td>0</td>\n      <td>...</td>\n      <td>0</td>\n      <td>0</td>\n      <td>0</td>\n      <td>0</td>\n      <td>0</td>\n      <td>0</td>\n      <td>0</td>\n      <td>0</td>\n      <td>0</td>\n      <td>0</td>\n    </tr>\n    <tr>\n      <th>3421056</th>\n      <td>0</td>\n      <td>0</td>\n      <td>0</td>\n      <td>0</td>\n      <td>0</td>\n      <td>0</td>\n      <td>0</td>\n      <td>0</td>\n      <td>0</td>\n      <td>0</td>\n      <td>...</td>\n      <td>0</td>\n      <td>0</td>\n      <td>0</td>\n      <td>0</td>\n      <td>0</td>\n      <td>0</td>\n      <td>0</td>\n      <td>0</td>\n      <td>0</td>\n      <td>0</td>\n    </tr>\n    <tr>\n      <th>3421058</th>\n      <td>0</td>\n      <td>0</td>\n      <td>0</td>\n      <td>0</td>\n      <td>0</td>\n      <td>0</td>\n      <td>0</td>\n      <td>0</td>\n      <td>0</td>\n      <td>0</td>\n      <td>...</td>\n      <td>0</td>\n      <td>0</td>\n      <td>0</td>\n      <td>0</td>\n      <td>0</td>\n      <td>0</td>\n      <td>0</td>\n      <td>0</td>\n      <td>0</td>\n      <td>0</td>\n    </tr>\n    <tr>\n      <th>3421063</th>\n      <td>0</td>\n      <td>0</td>\n      <td>0</td>\n      <td>0</td>\n      <td>0</td>\n      <td>0</td>\n      <td>0</td>\n      <td>0</td>\n      <td>0</td>\n      <td>0</td>\n      <td>...</td>\n      <td>0</td>\n      <td>0</td>\n      <td>0</td>\n      <td>0</td>\n      <td>0</td>\n      <td>0</td>\n      <td>0</td>\n      <td>0</td>\n      <td>0</td>\n      <td>0</td>\n    </tr>\n    <tr>\n      <th>3421070</th>\n      <td>0</td>\n      <td>0</td>\n      <td>0</td>\n      <td>0</td>\n      <td>0</td>\n      <td>0</td>\n      <td>0</td>\n      <td>0</td>\n      <td>0</td>\n      <td>0</td>\n      <td>...</td>\n      <td>0</td>\n      <td>0</td>\n      <td>0</td>\n      <td>0</td>\n      <td>0</td>\n      <td>0</td>\n      <td>0</td>\n      <td>0</td>\n      <td>0</td>\n      <td>0</td>\n    </tr>\n  </tbody>\n</table>\n<p>131209 rows × 39123 columns</p>\n</div>"
     },
     "execution_count": 3,
     "metadata": {},
     "output_type": "execute_result"
    }
   ],
   "source": [
    "# Create the interaction interaction matrix\n",
    "interaction_matrix = df.pivot_table(index='order_id', columns='product_id', aggfunc='size', fill_value=0)\n",
    "interaction_matrix"
   ],
   "metadata": {
    "collapsed": false,
    "ExecuteTime": {
     "end_time": "2024-06-12T19:43:49.359890Z",
     "start_time": "2024-06-12T19:38:55.028146Z"
    }
   },
   "id": "f2ea3d295101e88f"
  },
  {
   "cell_type": "code",
   "execution_count": null,
   "outputs": [],
   "source": [
    "from sklearn.model_selection import train_test_split\n",
    "\n",
    "# Split the data into train and test sets\n",
    "train_orders, test_orders = train_test_split(interaction_matrix, train_size=0.8, random_state=42)\n",
    "\n",
    "# Function to hide some items in the test set\n",
    "def leave_k_out(interaction_matrix, k=1):\n",
    "    test_matrix = interaction_matrix.copy()\n",
    "    hidden_items = {}\n",
    "    for order_id in interaction_matrix.index:\n",
    "        nonzero_indices = interaction_matrix.loc[order_id].to_numpy().nonzero()[0]\n",
    "        if len(nonzero_indices) > k:\n",
    "            hidden_indices = np.random.choice(nonzero_indices, size=k, replace=False)\n",
    "            hidden_items[order_id] = hidden_indices\n",
    "            test_matrix.loc[order_id, hidden_indices] = 0\n",
    "    return test_matrix, hidden_items\n",
    "\n",
    "# Apply leave-k-out on the test set\n",
    "test_orders_hidden, hidden_items = leave_k_out(test_orders, k=1)"
   ],
   "metadata": {
    "collapsed": false,
    "is_executing": true,
    "ExecuteTime": {
     "start_time": "2024-06-07T10:22:58.316256Z"
    }
   },
   "id": "e3e2030c52974266"
  },
  {
   "cell_type": "code",
   "execution_count": 4,
   "outputs": [
    {
     "name": "stderr",
     "output_type": "stream",
     "text": [
      "/var/folders/_1/jzxxkx2s39l5jxsz34sqhj280000gn/T/ipykernel_9615/2349813229.py:20: DeprecationWarning: DataFrameGroupBy.apply operated on the grouping columns. This behavior is deprecated, and in a future version of pandas the grouping columns will be excluded from the operation. Either pass `include_groups=False` to exclude the groupings or explicitly select the grouping columns after groupby to silence this warning.\n",
      "  hidden_items = nonzero_df.groupby('order_index').apply(lambda x: x.sample(k) if len(x) > k else x)\n"
     ]
    }
   ],
   "source": [
    "from sklearn.model_selection import train_test_split\n",
    "\n",
    "# Split the data into train and test sets\n",
    "train_orders, test_orders = train_test_split(interaction_matrix, train_size=0.8, random_state=42)\n",
    "\n",
    "# Function to hide some items in the test set\n",
    "def leave_k_out(interaction_matrix, k=1):\n",
    "    test_matrix = interaction_matrix.copy()\n",
    "    \n",
    "    # Get the positions of all non-zero entries\n",
    "    nonzero_positions = np.nonzero(test_matrix.values)\n",
    "    \n",
    "    # Create a DataFrame with these positions\n",
    "    nonzero_df = pd.DataFrame({\n",
    "        'order_index': nonzero_positions[0],\n",
    "        'product_index': nonzero_positions[1]\n",
    "    })\n",
    "    \n",
    "    # Group by order index to simulate the leave-k-out per order\n",
    "    hidden_items = nonzero_df.groupby('order_index').apply(lambda x: x.sample(k) if len(x) > k else x)\n",
    "    \n",
    "    # Flatten the MultiIndex\n",
    "    hidden_items = hidden_items.reset_index(drop=True)\n",
    "    \n",
    "    # Hide the selected items in the test matrix\n",
    "    test_matrix.values[hidden_items['order_index'], hidden_items['product_index']] = 0\n",
    "    \n",
    "    # Convert order and product indices back to their original labels\n",
    "    hidden_items['order_id'] = interaction_matrix.index[hidden_items['order_index']]\n",
    "    hidden_items['product_id'] = interaction_matrix.columns[hidden_items['product_index']]\n",
    "    \n",
    "    # Create a dictionary for hidden items\n",
    "    hidden_items_dict = hidden_items.groupby('order_id')['product_id'].apply(list).to_dict()\n",
    "    \n",
    "    return test_matrix, hidden_items_dict\n",
    "\n",
    "# Apply leave-k-out on the test set\n",
    "test_orders_hidden, hidden_items = leave_k_out(test_orders, k=1)\n"
   ],
   "metadata": {
    "collapsed": false,
    "ExecuteTime": {
     "end_time": "2024-06-12T19:58:52.576397Z",
     "start_time": "2024-06-12T19:57:03.753306Z"
    }
   },
   "id": "c3884870e2a2eb06"
  },
  {
   "cell_type": "code",
   "execution_count": null,
   "outputs": [],
   "source": [
    "train_orders.to_csv('train_knn.csv', index_label=False)"
   ],
   "metadata": {
    "collapsed": false,
    "is_executing": true,
    "ExecuteTime": {
     "start_time": "2024-06-11T06:58:28.039177Z"
    }
   },
   "id": "9c8ee5460beddd33"
  },
  {
   "cell_type": "code",
   "execution_count": 8,
   "outputs": [
    {
     "data": {
      "text/plain": "product_id  1  10  100  1000  10000  10001  10005  10006  10008  10009  ...  \\\norder_id                                                                ...   \n3007878     0   0    0     0      0      0      0      0      0      0  ...   \n1727889     0   0    0     0      0      0      0      0      0      0  ...   \n2829462     0   0    0     0      0      0      0      0      0      0  ...   \n3261021     0   0    0     0      0      0      0      0      0      0  ...   \n1711491     0   0    0     0      0      0      0      0      0      0  ...   \n\nproduct_id  9985  9986  9989  999  9990  9993  9995  9996  9997  9998  \norder_id                                                               \n3007878        0     0     0    0     0     0     0     0     0     0  \n1727889        0     0     0    0     0     0     0     0     0     0  \n2829462        0     0     0    0     0     0     0     0     0     0  \n3261021        0     0     0    0     0     0     0     0     0     0  \n1711491        0     0     0    0     0     0     0     0     0     0  \n\n[5 rows x 39123 columns]",
      "text/html": "<div>\n<style scoped>\n    .dataframe tbody tr th:only-of-type {\n        vertical-align: middle;\n    }\n\n    .dataframe tbody tr th {\n        vertical-align: top;\n    }\n\n    .dataframe thead th {\n        text-align: right;\n    }\n</style>\n<table border=\"1\" class=\"dataframe\">\n  <thead>\n    <tr style=\"text-align: right;\">\n      <th>product_id</th>\n      <th>1</th>\n      <th>10</th>\n      <th>100</th>\n      <th>1000</th>\n      <th>10000</th>\n      <th>10001</th>\n      <th>10005</th>\n      <th>10006</th>\n      <th>10008</th>\n      <th>10009</th>\n      <th>...</th>\n      <th>9985</th>\n      <th>9986</th>\n      <th>9989</th>\n      <th>999</th>\n      <th>9990</th>\n      <th>9993</th>\n      <th>9995</th>\n      <th>9996</th>\n      <th>9997</th>\n      <th>9998</th>\n    </tr>\n    <tr>\n      <th>order_id</th>\n      <th></th>\n      <th></th>\n      <th></th>\n      <th></th>\n      <th></th>\n      <th></th>\n      <th></th>\n      <th></th>\n      <th></th>\n      <th></th>\n      <th></th>\n      <th></th>\n      <th></th>\n      <th></th>\n      <th></th>\n      <th></th>\n      <th></th>\n      <th></th>\n      <th></th>\n      <th></th>\n      <th></th>\n    </tr>\n  </thead>\n  <tbody>\n    <tr>\n      <th>3007878</th>\n      <td>0</td>\n      <td>0</td>\n      <td>0</td>\n      <td>0</td>\n      <td>0</td>\n      <td>0</td>\n      <td>0</td>\n      <td>0</td>\n      <td>0</td>\n      <td>0</td>\n      <td>...</td>\n      <td>0</td>\n      <td>0</td>\n      <td>0</td>\n      <td>0</td>\n      <td>0</td>\n      <td>0</td>\n      <td>0</td>\n      <td>0</td>\n      <td>0</td>\n      <td>0</td>\n    </tr>\n    <tr>\n      <th>1727889</th>\n      <td>0</td>\n      <td>0</td>\n      <td>0</td>\n      <td>0</td>\n      <td>0</td>\n      <td>0</td>\n      <td>0</td>\n      <td>0</td>\n      <td>0</td>\n      <td>0</td>\n      <td>...</td>\n      <td>0</td>\n      <td>0</td>\n      <td>0</td>\n      <td>0</td>\n      <td>0</td>\n      <td>0</td>\n      <td>0</td>\n      <td>0</td>\n      <td>0</td>\n      <td>0</td>\n    </tr>\n    <tr>\n      <th>2829462</th>\n      <td>0</td>\n      <td>0</td>\n      <td>0</td>\n      <td>0</td>\n      <td>0</td>\n      <td>0</td>\n      <td>0</td>\n      <td>0</td>\n      <td>0</td>\n      <td>0</td>\n      <td>...</td>\n      <td>0</td>\n      <td>0</td>\n      <td>0</td>\n      <td>0</td>\n      <td>0</td>\n      <td>0</td>\n      <td>0</td>\n      <td>0</td>\n      <td>0</td>\n      <td>0</td>\n    </tr>\n    <tr>\n      <th>3261021</th>\n      <td>0</td>\n      <td>0</td>\n      <td>0</td>\n      <td>0</td>\n      <td>0</td>\n      <td>0</td>\n      <td>0</td>\n      <td>0</td>\n      <td>0</td>\n      <td>0</td>\n      <td>...</td>\n      <td>0</td>\n      <td>0</td>\n      <td>0</td>\n      <td>0</td>\n      <td>0</td>\n      <td>0</td>\n      <td>0</td>\n      <td>0</td>\n      <td>0</td>\n      <td>0</td>\n    </tr>\n    <tr>\n      <th>1711491</th>\n      <td>0</td>\n      <td>0</td>\n      <td>0</td>\n      <td>0</td>\n      <td>0</td>\n      <td>0</td>\n      <td>0</td>\n      <td>0</td>\n      <td>0</td>\n      <td>0</td>\n      <td>...</td>\n      <td>0</td>\n      <td>0</td>\n      <td>0</td>\n      <td>0</td>\n      <td>0</td>\n      <td>0</td>\n      <td>0</td>\n      <td>0</td>\n      <td>0</td>\n      <td>0</td>\n    </tr>\n  </tbody>\n</table>\n<p>5 rows × 39123 columns</p>\n</div>"
     },
     "execution_count": 8,
     "metadata": {},
     "output_type": "execute_result"
    }
   ],
   "source": [
    "test_orders_hidden.head()"
   ],
   "metadata": {
    "collapsed": false,
    "ExecuteTime": {
     "end_time": "2024-06-07T11:54:16.407259Z",
     "start_time": "2024-06-07T11:54:15.706066Z"
    }
   },
   "id": "4569ca413ac8b0d6"
  },
  {
   "cell_type": "code",
   "execution_count": 9,
   "outputs": [
    {
     "data": {
      "text/plain": "product_id  1  10  100  1000  10000  10001  10005  10006  10008  10009  ...  \\\norder_id                                                                ...   \n3007878     0   0    0     0      0      0      0      0      0      0  ...   \n1727889     0   0    0     0      0      0      0      0      0      0  ...   \n2829462     0   0    0     0      0      0      0      0      0      0  ...   \n3261021     0   0    0     0      0      0      0      0      0      0  ...   \n1711491     0   0    0     0      0      0      0      0      0      0  ...   \n\nproduct_id  9985  9986  9989  999  9990  9993  9995  9996  9997  9998  \norder_id                                                               \n3007878        0     0     0    0     0     0     0     0     0     0  \n1727889        0     0     0    0     0     0     0     0     0     0  \n2829462        0     0     0    0     0     0     0     0     0     0  \n3261021        0     0     0    0     0     0     0     0     0     0  \n1711491        0     0     0    0     0     0     0     0     0     0  \n\n[5 rows x 39123 columns]",
      "text/html": "<div>\n<style scoped>\n    .dataframe tbody tr th:only-of-type {\n        vertical-align: middle;\n    }\n\n    .dataframe tbody tr th {\n        vertical-align: top;\n    }\n\n    .dataframe thead th {\n        text-align: right;\n    }\n</style>\n<table border=\"1\" class=\"dataframe\">\n  <thead>\n    <tr style=\"text-align: right;\">\n      <th>product_id</th>\n      <th>1</th>\n      <th>10</th>\n      <th>100</th>\n      <th>1000</th>\n      <th>10000</th>\n      <th>10001</th>\n      <th>10005</th>\n      <th>10006</th>\n      <th>10008</th>\n      <th>10009</th>\n      <th>...</th>\n      <th>9985</th>\n      <th>9986</th>\n      <th>9989</th>\n      <th>999</th>\n      <th>9990</th>\n      <th>9993</th>\n      <th>9995</th>\n      <th>9996</th>\n      <th>9997</th>\n      <th>9998</th>\n    </tr>\n    <tr>\n      <th>order_id</th>\n      <th></th>\n      <th></th>\n      <th></th>\n      <th></th>\n      <th></th>\n      <th></th>\n      <th></th>\n      <th></th>\n      <th></th>\n      <th></th>\n      <th></th>\n      <th></th>\n      <th></th>\n      <th></th>\n      <th></th>\n      <th></th>\n      <th></th>\n      <th></th>\n      <th></th>\n      <th></th>\n      <th></th>\n    </tr>\n  </thead>\n  <tbody>\n    <tr>\n      <th>3007878</th>\n      <td>0</td>\n      <td>0</td>\n      <td>0</td>\n      <td>0</td>\n      <td>0</td>\n      <td>0</td>\n      <td>0</td>\n      <td>0</td>\n      <td>0</td>\n      <td>0</td>\n      <td>...</td>\n      <td>0</td>\n      <td>0</td>\n      <td>0</td>\n      <td>0</td>\n      <td>0</td>\n      <td>0</td>\n      <td>0</td>\n      <td>0</td>\n      <td>0</td>\n      <td>0</td>\n    </tr>\n    <tr>\n      <th>1727889</th>\n      <td>0</td>\n      <td>0</td>\n      <td>0</td>\n      <td>0</td>\n      <td>0</td>\n      <td>0</td>\n      <td>0</td>\n      <td>0</td>\n      <td>0</td>\n      <td>0</td>\n      <td>...</td>\n      <td>0</td>\n      <td>0</td>\n      <td>0</td>\n      <td>0</td>\n      <td>0</td>\n      <td>0</td>\n      <td>0</td>\n      <td>0</td>\n      <td>0</td>\n      <td>0</td>\n    </tr>\n    <tr>\n      <th>2829462</th>\n      <td>0</td>\n      <td>0</td>\n      <td>0</td>\n      <td>0</td>\n      <td>0</td>\n      <td>0</td>\n      <td>0</td>\n      <td>0</td>\n      <td>0</td>\n      <td>0</td>\n      <td>...</td>\n      <td>0</td>\n      <td>0</td>\n      <td>0</td>\n      <td>0</td>\n      <td>0</td>\n      <td>0</td>\n      <td>0</td>\n      <td>0</td>\n      <td>0</td>\n      <td>0</td>\n    </tr>\n    <tr>\n      <th>3261021</th>\n      <td>0</td>\n      <td>0</td>\n      <td>0</td>\n      <td>0</td>\n      <td>0</td>\n      <td>0</td>\n      <td>0</td>\n      <td>0</td>\n      <td>0</td>\n      <td>0</td>\n      <td>...</td>\n      <td>0</td>\n      <td>0</td>\n      <td>0</td>\n      <td>0</td>\n      <td>0</td>\n      <td>0</td>\n      <td>0</td>\n      <td>0</td>\n      <td>0</td>\n      <td>0</td>\n    </tr>\n    <tr>\n      <th>1711491</th>\n      <td>0</td>\n      <td>0</td>\n      <td>0</td>\n      <td>0</td>\n      <td>0</td>\n      <td>0</td>\n      <td>0</td>\n      <td>0</td>\n      <td>0</td>\n      <td>0</td>\n      <td>...</td>\n      <td>0</td>\n      <td>0</td>\n      <td>0</td>\n      <td>0</td>\n      <td>0</td>\n      <td>0</td>\n      <td>0</td>\n      <td>0</td>\n      <td>0</td>\n      <td>0</td>\n    </tr>\n  </tbody>\n</table>\n<p>5 rows × 39123 columns</p>\n</div>"
     },
     "execution_count": 9,
     "metadata": {},
     "output_type": "execute_result"
    }
   ],
   "source": [
    "test_orders.head()"
   ],
   "metadata": {
    "collapsed": false,
    "ExecuteTime": {
     "end_time": "2024-06-07T11:54:26.441835Z",
     "start_time": "2024-06-07T11:54:26.423811Z"
    }
   },
   "id": "b9538e74df9c015"
  },
  {
   "cell_type": "code",
   "execution_count": 5,
   "outputs": [
    {
     "data": {
      "text/plain": "NearestNeighbors(metric='cosine')",
      "text/html": "<style>#sk-container-id-1 {\n  /* Definition of color scheme common for light and dark mode */\n  --sklearn-color-text: black;\n  --sklearn-color-line: gray;\n  /* Definition of color scheme for unfitted estimators */\n  --sklearn-color-unfitted-level-0: #fff5e6;\n  --sklearn-color-unfitted-level-1: #f6e4d2;\n  --sklearn-color-unfitted-level-2: #ffe0b3;\n  --sklearn-color-unfitted-level-3: chocolate;\n  /* Definition of color scheme for fitted estimators */\n  --sklearn-color-fitted-level-0: #f0f8ff;\n  --sklearn-color-fitted-level-1: #d4ebff;\n  --sklearn-color-fitted-level-2: #b3dbfd;\n  --sklearn-color-fitted-level-3: cornflowerblue;\n\n  /* Specific color for light theme */\n  --sklearn-color-text-on-default-background: var(--sg-text-color, var(--theme-code-foreground, var(--jp-content-font-color1, black)));\n  --sklearn-color-background: var(--sg-background-color, var(--theme-background, var(--jp-layout-color0, white)));\n  --sklearn-color-border-box: var(--sg-text-color, var(--theme-code-foreground, var(--jp-content-font-color1, black)));\n  --sklearn-color-icon: #696969;\n\n  @media (prefers-color-scheme: dark) {\n    /* Redefinition of color scheme for dark theme */\n    --sklearn-color-text-on-default-background: var(--sg-text-color, var(--theme-code-foreground, var(--jp-content-font-color1, white)));\n    --sklearn-color-background: var(--sg-background-color, var(--theme-background, var(--jp-layout-color0, #111)));\n    --sklearn-color-border-box: var(--sg-text-color, var(--theme-code-foreground, var(--jp-content-font-color1, white)));\n    --sklearn-color-icon: #878787;\n  }\n}\n\n#sk-container-id-1 {\n  color: var(--sklearn-color-text);\n}\n\n#sk-container-id-1 pre {\n  padding: 0;\n}\n\n#sk-container-id-1 input.sk-hidden--visually {\n  border: 0;\n  clip: rect(1px 1px 1px 1px);\n  clip: rect(1px, 1px, 1px, 1px);\n  height: 1px;\n  margin: -1px;\n  overflow: hidden;\n  padding: 0;\n  position: absolute;\n  width: 1px;\n}\n\n#sk-container-id-1 div.sk-dashed-wrapped {\n  border: 1px dashed var(--sklearn-color-line);\n  margin: 0 0.4em 0.5em 0.4em;\n  box-sizing: border-box;\n  padding-bottom: 0.4em;\n  background-color: var(--sklearn-color-background);\n}\n\n#sk-container-id-1 div.sk-container {\n  /* jupyter's `normalize.less` sets `[hidden] { display: none; }`\n     but bootstrap.min.css set `[hidden] { display: none !important; }`\n     so we also need the `!important` here to be able to override the\n     default hidden behavior on the sphinx rendered scikit-learn.org.\n     See: https://github.com/scikit-learn/scikit-learn/issues/21755 */\n  display: inline-block !important;\n  position: relative;\n}\n\n#sk-container-id-1 div.sk-text-repr-fallback {\n  display: none;\n}\n\ndiv.sk-parallel-item,\ndiv.sk-serial,\ndiv.sk-item {\n  /* draw centered vertical line to link estimators */\n  background-image: linear-gradient(var(--sklearn-color-text-on-default-background), var(--sklearn-color-text-on-default-background));\n  background-size: 2px 100%;\n  background-repeat: no-repeat;\n  background-position: center center;\n}\n\n/* Parallel-specific style estimator block */\n\n#sk-container-id-1 div.sk-parallel-item::after {\n  content: \"\";\n  width: 100%;\n  border-bottom: 2px solid var(--sklearn-color-text-on-default-background);\n  flex-grow: 1;\n}\n\n#sk-container-id-1 div.sk-parallel {\n  display: flex;\n  align-items: stretch;\n  justify-content: center;\n  background-color: var(--sklearn-color-background);\n  position: relative;\n}\n\n#sk-container-id-1 div.sk-parallel-item {\n  display: flex;\n  flex-direction: column;\n}\n\n#sk-container-id-1 div.sk-parallel-item:first-child::after {\n  align-self: flex-end;\n  width: 50%;\n}\n\n#sk-container-id-1 div.sk-parallel-item:last-child::after {\n  align-self: flex-start;\n  width: 50%;\n}\n\n#sk-container-id-1 div.sk-parallel-item:only-child::after {\n  width: 0;\n}\n\n/* Serial-specific style estimator block */\n\n#sk-container-id-1 div.sk-serial {\n  display: flex;\n  flex-direction: column;\n  align-items: center;\n  background-color: var(--sklearn-color-background);\n  padding-right: 1em;\n  padding-left: 1em;\n}\n\n\n/* Toggleable style: style used for estimator/Pipeline/ColumnTransformer box that is\nclickable and can be expanded/collapsed.\n- Pipeline and ColumnTransformer use this feature and define the default style\n- Estimators will overwrite some part of the style using the `sk-estimator` class\n*/\n\n/* Pipeline and ColumnTransformer style (default) */\n\n#sk-container-id-1 div.sk-toggleable {\n  /* Default theme specific background. It is overwritten whether we have a\n  specific estimator or a Pipeline/ColumnTransformer */\n  background-color: var(--sklearn-color-background);\n}\n\n/* Toggleable label */\n#sk-container-id-1 label.sk-toggleable__label {\n  cursor: pointer;\n  display: block;\n  width: 100%;\n  margin-bottom: 0;\n  padding: 0.5em;\n  box-sizing: border-box;\n  text-align: center;\n}\n\n#sk-container-id-1 label.sk-toggleable__label-arrow:before {\n  /* Arrow on the left of the label */\n  content: \"▸\";\n  float: left;\n  margin-right: 0.25em;\n  color: var(--sklearn-color-icon);\n}\n\n#sk-container-id-1 label.sk-toggleable__label-arrow:hover:before {\n  color: var(--sklearn-color-text);\n}\n\n/* Toggleable content - dropdown */\n\n#sk-container-id-1 div.sk-toggleable__content {\n  max-height: 0;\n  max-width: 0;\n  overflow: hidden;\n  text-align: left;\n  /* unfitted */\n  background-color: var(--sklearn-color-unfitted-level-0);\n}\n\n#sk-container-id-1 div.sk-toggleable__content.fitted {\n  /* fitted */\n  background-color: var(--sklearn-color-fitted-level-0);\n}\n\n#sk-container-id-1 div.sk-toggleable__content pre {\n  margin: 0.2em;\n  border-radius: 0.25em;\n  color: var(--sklearn-color-text);\n  /* unfitted */\n  background-color: var(--sklearn-color-unfitted-level-0);\n}\n\n#sk-container-id-1 div.sk-toggleable__content.fitted pre {\n  /* unfitted */\n  background-color: var(--sklearn-color-fitted-level-0);\n}\n\n#sk-container-id-1 input.sk-toggleable__control:checked~div.sk-toggleable__content {\n  /* Expand drop-down */\n  max-height: 200px;\n  max-width: 100%;\n  overflow: auto;\n}\n\n#sk-container-id-1 input.sk-toggleable__control:checked~label.sk-toggleable__label-arrow:before {\n  content: \"▾\";\n}\n\n/* Pipeline/ColumnTransformer-specific style */\n\n#sk-container-id-1 div.sk-label input.sk-toggleable__control:checked~label.sk-toggleable__label {\n  color: var(--sklearn-color-text);\n  background-color: var(--sklearn-color-unfitted-level-2);\n}\n\n#sk-container-id-1 div.sk-label.fitted input.sk-toggleable__control:checked~label.sk-toggleable__label {\n  background-color: var(--sklearn-color-fitted-level-2);\n}\n\n/* Estimator-specific style */\n\n/* Colorize estimator box */\n#sk-container-id-1 div.sk-estimator input.sk-toggleable__control:checked~label.sk-toggleable__label {\n  /* unfitted */\n  background-color: var(--sklearn-color-unfitted-level-2);\n}\n\n#sk-container-id-1 div.sk-estimator.fitted input.sk-toggleable__control:checked~label.sk-toggleable__label {\n  /* fitted */\n  background-color: var(--sklearn-color-fitted-level-2);\n}\n\n#sk-container-id-1 div.sk-label label.sk-toggleable__label,\n#sk-container-id-1 div.sk-label label {\n  /* The background is the default theme color */\n  color: var(--sklearn-color-text-on-default-background);\n}\n\n/* On hover, darken the color of the background */\n#sk-container-id-1 div.sk-label:hover label.sk-toggleable__label {\n  color: var(--sklearn-color-text);\n  background-color: var(--sklearn-color-unfitted-level-2);\n}\n\n/* Label box, darken color on hover, fitted */\n#sk-container-id-1 div.sk-label.fitted:hover label.sk-toggleable__label.fitted {\n  color: var(--sklearn-color-text);\n  background-color: var(--sklearn-color-fitted-level-2);\n}\n\n/* Estimator label */\n\n#sk-container-id-1 div.sk-label label {\n  font-family: monospace;\n  font-weight: bold;\n  display: inline-block;\n  line-height: 1.2em;\n}\n\n#sk-container-id-1 div.sk-label-container {\n  text-align: center;\n}\n\n/* Estimator-specific */\n#sk-container-id-1 div.sk-estimator {\n  font-family: monospace;\n  border: 1px dotted var(--sklearn-color-border-box);\n  border-radius: 0.25em;\n  box-sizing: border-box;\n  margin-bottom: 0.5em;\n  /* unfitted */\n  background-color: var(--sklearn-color-unfitted-level-0);\n}\n\n#sk-container-id-1 div.sk-estimator.fitted {\n  /* fitted */\n  background-color: var(--sklearn-color-fitted-level-0);\n}\n\n/* on hover */\n#sk-container-id-1 div.sk-estimator:hover {\n  /* unfitted */\n  background-color: var(--sklearn-color-unfitted-level-2);\n}\n\n#sk-container-id-1 div.sk-estimator.fitted:hover {\n  /* fitted */\n  background-color: var(--sklearn-color-fitted-level-2);\n}\n\n/* Specification for estimator info (e.g. \"i\" and \"?\") */\n\n/* Common style for \"i\" and \"?\" */\n\n.sk-estimator-doc-link,\na:link.sk-estimator-doc-link,\na:visited.sk-estimator-doc-link {\n  float: right;\n  font-size: smaller;\n  line-height: 1em;\n  font-family: monospace;\n  background-color: var(--sklearn-color-background);\n  border-radius: 1em;\n  height: 1em;\n  width: 1em;\n  text-decoration: none !important;\n  margin-left: 1ex;\n  /* unfitted */\n  border: var(--sklearn-color-unfitted-level-1) 1pt solid;\n  color: var(--sklearn-color-unfitted-level-1);\n}\n\n.sk-estimator-doc-link.fitted,\na:link.sk-estimator-doc-link.fitted,\na:visited.sk-estimator-doc-link.fitted {\n  /* fitted */\n  border: var(--sklearn-color-fitted-level-1) 1pt solid;\n  color: var(--sklearn-color-fitted-level-1);\n}\n\n/* On hover */\ndiv.sk-estimator:hover .sk-estimator-doc-link:hover,\n.sk-estimator-doc-link:hover,\ndiv.sk-label-container:hover .sk-estimator-doc-link:hover,\n.sk-estimator-doc-link:hover {\n  /* unfitted */\n  background-color: var(--sklearn-color-unfitted-level-3);\n  color: var(--sklearn-color-background);\n  text-decoration: none;\n}\n\ndiv.sk-estimator.fitted:hover .sk-estimator-doc-link.fitted:hover,\n.sk-estimator-doc-link.fitted:hover,\ndiv.sk-label-container:hover .sk-estimator-doc-link.fitted:hover,\n.sk-estimator-doc-link.fitted:hover {\n  /* fitted */\n  background-color: var(--sklearn-color-fitted-level-3);\n  color: var(--sklearn-color-background);\n  text-decoration: none;\n}\n\n/* Span, style for the box shown on hovering the info icon */\n.sk-estimator-doc-link span {\n  display: none;\n  z-index: 9999;\n  position: relative;\n  font-weight: normal;\n  right: .2ex;\n  padding: .5ex;\n  margin: .5ex;\n  width: min-content;\n  min-width: 20ex;\n  max-width: 50ex;\n  color: var(--sklearn-color-text);\n  box-shadow: 2pt 2pt 4pt #999;\n  /* unfitted */\n  background: var(--sklearn-color-unfitted-level-0);\n  border: .5pt solid var(--sklearn-color-unfitted-level-3);\n}\n\n.sk-estimator-doc-link.fitted span {\n  /* fitted */\n  background: var(--sklearn-color-fitted-level-0);\n  border: var(--sklearn-color-fitted-level-3);\n}\n\n.sk-estimator-doc-link:hover span {\n  display: block;\n}\n\n/* \"?\"-specific style due to the `<a>` HTML tag */\n\n#sk-container-id-1 a.estimator_doc_link {\n  float: right;\n  font-size: 1rem;\n  line-height: 1em;\n  font-family: monospace;\n  background-color: var(--sklearn-color-background);\n  border-radius: 1rem;\n  height: 1rem;\n  width: 1rem;\n  text-decoration: none;\n  /* unfitted */\n  color: var(--sklearn-color-unfitted-level-1);\n  border: var(--sklearn-color-unfitted-level-1) 1pt solid;\n}\n\n#sk-container-id-1 a.estimator_doc_link.fitted {\n  /* fitted */\n  border: var(--sklearn-color-fitted-level-1) 1pt solid;\n  color: var(--sklearn-color-fitted-level-1);\n}\n\n/* On hover */\n#sk-container-id-1 a.estimator_doc_link:hover {\n  /* unfitted */\n  background-color: var(--sklearn-color-unfitted-level-3);\n  color: var(--sklearn-color-background);\n  text-decoration: none;\n}\n\n#sk-container-id-1 a.estimator_doc_link.fitted:hover {\n  /* fitted */\n  background-color: var(--sklearn-color-fitted-level-3);\n}\n</style><div id=\"sk-container-id-1\" class=\"sk-top-container\"><div class=\"sk-text-repr-fallback\"><pre>NearestNeighbors(metric=&#x27;cosine&#x27;)</pre><b>In a Jupyter environment, please rerun this cell to show the HTML representation or trust the notebook. <br />On GitHub, the HTML representation is unable to render, please try loading this page with nbviewer.org.</b></div><div class=\"sk-container\" hidden><div class=\"sk-item\"><div class=\"sk-estimator fitted sk-toggleable\"><input class=\"sk-toggleable__control sk-hidden--visually\" id=\"sk-estimator-id-1\" type=\"checkbox\" checked><label for=\"sk-estimator-id-1\" class=\"sk-toggleable__label fitted sk-toggleable__label-arrow fitted\">&nbsp;&nbsp;NearestNeighbors<a class=\"sk-estimator-doc-link fitted\" rel=\"noreferrer\" target=\"_blank\" href=\"https://scikit-learn.org/1.5/modules/generated/sklearn.neighbors.NearestNeighbors.html\">?<span>Documentation for NearestNeighbors</span></a><span class=\"sk-estimator-doc-link fitted\">i<span>Fitted</span></span></label><div class=\"sk-toggleable__content fitted\"><pre>NearestNeighbors(metric=&#x27;cosine&#x27;)</pre></div> </div></div></div></div>"
     },
     "execution_count": 5,
     "metadata": {},
     "output_type": "execute_result"
    }
   ],
   "source": [
    "from sklearn.neighbors import NearestNeighbors\n",
    "\n",
    "# Initialize the k-NN model\n",
    "knn = NearestNeighbors(metric='cosine')\n",
    "\n",
    "# Fit the model on the training data\n",
    "knn.fit(train_orders)"
   ],
   "metadata": {
    "collapsed": false,
    "ExecuteTime": {
     "end_time": "2024-06-12T20:00:25.961911Z",
     "start_time": "2024-06-12T19:59:11.202341Z"
    }
   },
   "id": "a91f148cfae176f3"
  },
  {
   "cell_type": "code",
   "execution_count": 6,
   "outputs": [
    {
     "ename": "KeyError",
     "evalue": "3007878",
     "output_type": "error",
     "traceback": [
      "\u001B[0;31m---------------------------------------------------------------------------\u001B[0m",
      "\u001B[0;31mKeyError\u001B[0m                                  Traceback (most recent call last)",
      "File \u001B[0;32m~/Documents/DLR/Madrid/IE/3rd Term/Capstone Project/supercenter-product-recommender/venv/lib/python3.9/site-packages/pandas/core/indexes/base.py:3805\u001B[0m, in \u001B[0;36mIndex.get_loc\u001B[0;34m(self, key)\u001B[0m\n\u001B[1;32m   3804\u001B[0m \u001B[38;5;28;01mtry\u001B[39;00m:\n\u001B[0;32m-> 3805\u001B[0m     \u001B[38;5;28;01mreturn\u001B[39;00m \u001B[38;5;28;43mself\u001B[39;49m\u001B[38;5;241;43m.\u001B[39;49m\u001B[43m_engine\u001B[49m\u001B[38;5;241;43m.\u001B[39;49m\u001B[43mget_loc\u001B[49m\u001B[43m(\u001B[49m\u001B[43mcasted_key\u001B[49m\u001B[43m)\u001B[49m\n\u001B[1;32m   3806\u001B[0m \u001B[38;5;28;01mexcept\u001B[39;00m \u001B[38;5;167;01mKeyError\u001B[39;00m \u001B[38;5;28;01mas\u001B[39;00m err:\n",
      "File \u001B[0;32mindex.pyx:167\u001B[0m, in \u001B[0;36mpandas._libs.index.IndexEngine.get_loc\u001B[0;34m()\u001B[0m\n",
      "File \u001B[0;32mindex.pyx:196\u001B[0m, in \u001B[0;36mpandas._libs.index.IndexEngine.get_loc\u001B[0;34m()\u001B[0m\n",
      "File \u001B[0;32mpandas/_libs/hashtable_class_helper.pxi:2606\u001B[0m, in \u001B[0;36mpandas._libs.hashtable.Int64HashTable.get_item\u001B[0;34m()\u001B[0m\n",
      "File \u001B[0;32mpandas/_libs/hashtable_class_helper.pxi:2630\u001B[0m, in \u001B[0;36mpandas._libs.hashtable.Int64HashTable.get_item\u001B[0;34m()\u001B[0m\n",
      "\u001B[0;31mKeyError\u001B[0m: 3007878",
      "\nThe above exception was the direct cause of the following exception:\n",
      "\u001B[0;31mKeyError\u001B[0m                                  Traceback (most recent call last)",
      "Cell \u001B[0;32mIn[6], line 33\u001B[0m\n\u001B[1;32m     31\u001B[0m \u001B[38;5;66;03m# Example: Get recommendations for a test order with hidden items\u001B[39;00m\n\u001B[1;32m     32\u001B[0m test_order_id \u001B[38;5;241m=\u001B[39m test_orders_hidden\u001B[38;5;241m.\u001B[39mindex[\u001B[38;5;241m0\u001B[39m]\n\u001B[0;32m---> 33\u001B[0m similar_orders \u001B[38;5;241m=\u001B[39m \u001B[43mget_knn_recommendations\u001B[49m\u001B[43m(\u001B[49m\u001B[43mtest_order_id\u001B[49m\u001B[43m,\u001B[49m\u001B[43m \u001B[49m\u001B[43mknn\u001B[49m\u001B[43m,\u001B[49m\u001B[43m \u001B[49m\u001B[43mtrain_orders\u001B[49m\u001B[43m,\u001B[49m\u001B[43m \u001B[49m\u001B[43mtop_n\u001B[49m\u001B[38;5;241;43m=\u001B[39;49m\u001B[38;5;241;43m2\u001B[39;49m\u001B[43m)\u001B[49m\n\u001B[1;32m     34\u001B[0m recommended_products \u001B[38;5;241m=\u001B[39m recommend_products(test_order_id, similar_orders, train_orders)\n\u001B[1;32m     36\u001B[0m \u001B[38;5;28mprint\u001B[39m(\u001B[38;5;124mf\u001B[39m\u001B[38;5;124m\"\u001B[39m\u001B[38;5;124mOrders similar to \u001B[39m\u001B[38;5;132;01m{\u001B[39;00mtest_order_id\u001B[38;5;132;01m}\u001B[39;00m\u001B[38;5;124m: \u001B[39m\u001B[38;5;132;01m{\u001B[39;00msimilar_orders\u001B[38;5;132;01m}\u001B[39;00m\u001B[38;5;124m\"\u001B[39m)\n",
      "Cell \u001B[0;32mIn[6], line 3\u001B[0m, in \u001B[0;36mget_knn_recommendations\u001B[0;34m(order_id, knn_model, interaction_matrix, top_n)\u001B[0m\n\u001B[1;32m      1\u001B[0m \u001B[38;5;28;01mdef\u001B[39;00m \u001B[38;5;21mget_knn_recommendations\u001B[39m(order_id, knn_model, interaction_matrix, top_n\u001B[38;5;241m=\u001B[39m\u001B[38;5;241m5\u001B[39m):\n\u001B[1;32m      2\u001B[0m     \u001B[38;5;66;03m# Find the index of the order in the interaction matrix\u001B[39;00m\n\u001B[0;32m----> 3\u001B[0m     order_index \u001B[38;5;241m=\u001B[39m \u001B[43minteraction_matrix\u001B[49m\u001B[38;5;241;43m.\u001B[39;49m\u001B[43mindex\u001B[49m\u001B[38;5;241;43m.\u001B[39;49m\u001B[43mget_loc\u001B[49m\u001B[43m(\u001B[49m\u001B[43morder_id\u001B[49m\u001B[43m)\u001B[49m\n\u001B[1;32m      5\u001B[0m     \u001B[38;5;66;03m# Find the k-nearest neighbors\u001B[39;00m\n\u001B[1;32m      6\u001B[0m     distances, indices \u001B[38;5;241m=\u001B[39m knn_model\u001B[38;5;241m.\u001B[39mkneighbors(interaction_matrix\u001B[38;5;241m.\u001B[39miloc[order_index, :]\u001B[38;5;241m.\u001B[39mvalues\u001B[38;5;241m.\u001B[39mreshape(\u001B[38;5;241m1\u001B[39m, \u001B[38;5;241m-\u001B[39m\u001B[38;5;241m1\u001B[39m), n_neighbors\u001B[38;5;241m=\u001B[39mtop_n \u001B[38;5;241m+\u001B[39m \u001B[38;5;241m1\u001B[39m)\n",
      "File \u001B[0;32m~/Documents/DLR/Madrid/IE/3rd Term/Capstone Project/supercenter-product-recommender/venv/lib/python3.9/site-packages/pandas/core/indexes/base.py:3812\u001B[0m, in \u001B[0;36mIndex.get_loc\u001B[0;34m(self, key)\u001B[0m\n\u001B[1;32m   3807\u001B[0m     \u001B[38;5;28;01mif\u001B[39;00m \u001B[38;5;28misinstance\u001B[39m(casted_key, \u001B[38;5;28mslice\u001B[39m) \u001B[38;5;129;01mor\u001B[39;00m (\n\u001B[1;32m   3808\u001B[0m         \u001B[38;5;28misinstance\u001B[39m(casted_key, abc\u001B[38;5;241m.\u001B[39mIterable)\n\u001B[1;32m   3809\u001B[0m         \u001B[38;5;129;01mand\u001B[39;00m \u001B[38;5;28many\u001B[39m(\u001B[38;5;28misinstance\u001B[39m(x, \u001B[38;5;28mslice\u001B[39m) \u001B[38;5;28;01mfor\u001B[39;00m x \u001B[38;5;129;01min\u001B[39;00m casted_key)\n\u001B[1;32m   3810\u001B[0m     ):\n\u001B[1;32m   3811\u001B[0m         \u001B[38;5;28;01mraise\u001B[39;00m InvalidIndexError(key)\n\u001B[0;32m-> 3812\u001B[0m     \u001B[38;5;28;01mraise\u001B[39;00m \u001B[38;5;167;01mKeyError\u001B[39;00m(key) \u001B[38;5;28;01mfrom\u001B[39;00m \u001B[38;5;21;01merr\u001B[39;00m\n\u001B[1;32m   3813\u001B[0m \u001B[38;5;28;01mexcept\u001B[39;00m \u001B[38;5;167;01mTypeError\u001B[39;00m:\n\u001B[1;32m   3814\u001B[0m     \u001B[38;5;66;03m# If we have a listlike key, _check_indexing_error will raise\u001B[39;00m\n\u001B[1;32m   3815\u001B[0m     \u001B[38;5;66;03m#  InvalidIndexError. Otherwise we fall through and re-raise\u001B[39;00m\n\u001B[1;32m   3816\u001B[0m     \u001B[38;5;66;03m#  the TypeError.\u001B[39;00m\n\u001B[1;32m   3817\u001B[0m     \u001B[38;5;28mself\u001B[39m\u001B[38;5;241m.\u001B[39m_check_indexing_error(key)\n",
      "\u001B[0;31mKeyError\u001B[0m: 3007878"
     ]
    }
   ],
   "source": [
    "def get_knn_recommendations(order_id, knn_model, interaction_matrix, top_n=5):\n",
    "    # Find the index of the order in the interaction matrix\n",
    "    order_index = interaction_matrix.index.get_loc(order_id)\n",
    "    \n",
    "    # Find the k-nearest neighbors\n",
    "    distances, indices = knn_model.kneighbors(interaction_matrix.iloc[order_index, :].values.reshape(1, -1), n_neighbors=top_n + 1)\n",
    "    \n",
    "    # Get the indices of the nearest neighbors\n",
    "    nearest_neighbors = indices.flatten()[1:]  # Exclude the order itself\n",
    "    \n",
    "    # Get the order IDs of the nearest neighbors\n",
    "    similar_orders = interaction_matrix.index[nearest_neighbors].tolist()\n",
    "    \n",
    "    return similar_orders\n",
    "\n",
    "def recommend_products(order_id, similar_orders, interaction_matrix):\n",
    "    # Get the products in the similar orders\n",
    "    similar_order_products = interaction_matrix.loc[similar_orders].sum(axis=0)\n",
    "    \n",
    "    # Get the products in the current order\n",
    "    current_order_products = interaction_matrix.loc[order_id]\n",
    "    \n",
    "    # Recommend products not in the current order\n",
    "    recommendations = similar_order_products[current_order_products == 0]\n",
    "    \n",
    "    # Sort recommendations by the sum of their occurrences in similar orders\n",
    "    recommendations = recommendations.sort_values(ascending=False).index.tolist()\n",
    "    \n",
    "    return recommendations\n",
    "\n",
    "# Example: Get recommendations for a test order with hidden items\n",
    "test_order_id = test_orders_hidden.index[0]\n",
    "similar_orders = get_knn_recommendations(test_order_id, knn, train_orders, top_n=2)\n",
    "recommended_products = recommend_products(test_order_id, similar_orders, train_orders)\n",
    "\n",
    "print(f\"Orders similar to {test_order_id}: {similar_orders}\")\n",
    "print(f\"Recommended products for order {test_order_id}: {recommended_products}\")\n"
   ],
   "metadata": {
    "collapsed": false,
    "ExecuteTime": {
     "end_time": "2024-06-12T20:03:32.129112Z",
     "start_time": "2024-06-12T20:03:30.688044Z"
    }
   },
   "id": "35f418990b798259"
  },
  {
   "cell_type": "code",
   "execution_count": null,
   "outputs": [],
   "source": [
    "import joblib\n",
    "joblib.dump(knn, \"../models/knn.pkl\")"
   ],
   "metadata": {
    "collapsed": false,
    "is_executing": true,
    "ExecuteTime": {
     "start_time": "2024-06-12T20:05:57.671080Z"
    }
   },
   "id": "ad348d96f6f7c296"
  },
  {
   "cell_type": "code",
   "execution_count": null,
   "outputs": [],
   "source": [
    "def evaluate_recommendations(test_orders_hidden, hidden_items, knn_model, train_orders, top_n=5):\n",
    "    precisions = []\n",
    "    recalls = []\n",
    "    for order_id in test_orders_hidden.index:\n",
    "        actual_hidden_products = hidden_items[order_id]\n",
    "        similar_orders = get_knn_recommendations(order_id, knn_model, train_orders, top_n)\n",
    "        recommended_products = recommend_products(order_id, similar_orders, train_orders)\n",
    "        \n",
    "        true_positives = len(set(recommended_products) & set(actual_hidden_products))\n",
    "        precision = true_positives / len(recommended_products) if len(recommended_products) > 0 else 0\n",
    "        recall = true_positives / len(actual_hidden_products) if len(actual_hidden_products) > 0 else 0\n",
    "        f1_score = 2 * (precision * recall) / (precision + recall) if (precision + recall) > 0 else 0\n",
    "        \n",
    "        precisions.append(precision)\n",
    "        recalls.append(recall)\n",
    "    \n",
    "    avg_precision = np.mean(precisions)\n",
    "    avg_recall = np.mean(recalls)\n",
    "    avg_f1 = np.mean([2 * (p * r) / (p + r) if (p + r) > 0 else 0 for p, r in zip(precisions, recalls)])\n",
    "    \n",
    "    return avg_precision, avg_recall, avg_f1\n",
    "\n",
    "# Evaluate the model\n",
    "precision, recall, f1 = evaluate_recommendations(test_orders_hidden, hidden_items, knn, train_orders, top_n=2)\n",
    "print(f\"Precision: {precision:.2f}, Recall: {recall:.2f}, F1 Score: {f1:.2f}\")\n"
   ],
   "metadata": {
    "collapsed": false
   },
   "id": "e5bf657eb966fce8"
  },
  {
   "cell_type": "code",
   "execution_count": null,
   "outputs": [],
   "source": [
    "import tensorflow as tf\n",
    "import numpy as np"
   ],
   "metadata": {
    "collapsed": false,
    "is_executing": true,
    "ExecuteTime": {
     "start_time": "2024-06-13T14:46:23.034833Z"
    }
   },
   "id": "6587f0fc5f15543"
  },
  {
   "cell_type": "code",
   "execution_count": null,
   "outputs": [],
   "source": [
    "orders_df = read_table('processed_orders_data')\n",
    "products_df = read_table('processed_products_data')"
   ],
   "metadata": {
    "collapsed": false
   },
   "id": "22f3c31128ed690e"
  }
 ],
 "metadata": {
  "kernelspec": {
   "display_name": "Python 3",
   "language": "python",
   "name": "python3"
  },
  "language_info": {
   "codemirror_mode": {
    "name": "ipython",
    "version": 2
   },
   "file_extension": ".py",
   "mimetype": "text/x-python",
   "name": "python",
   "nbconvert_exporter": "python",
   "pygments_lexer": "ipython2",
   "version": "2.7.6"
  }
 },
 "nbformat": 4,
 "nbformat_minor": 5
}
